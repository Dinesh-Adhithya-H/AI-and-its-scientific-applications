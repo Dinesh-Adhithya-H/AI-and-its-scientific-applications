{
 "cells": [
  {
   "cell_type": "markdown",
   "metadata": {},
   "source": [
    "## Assignment 2"
   ]
  },
  {
   "cell_type": "code",
   "execution_count": 2,
   "metadata": {},
   "outputs": [],
   "source": [
    "import tensorflow as tf\n",
    "import matplotlib.pyplot as plt\n",
    "import numpy as np\n",
    "import random as rn"
   ]
  },
  {
   "cell_type": "markdown",
   "metadata": {},
   "source": [
    "This exercise is deceptively simple in its description: build at least two neural networks that achieve 97% or better validation accuracy on the MNIST dataset without using convolutional layers. Once you have (at least) two such networks, evaluate their performance on the test data and compare the results.\n",
    "\n",
    "->> done below"
   ]
  },
  {
   "cell_type": "code",
   "execution_count": 3,
   "metadata": {},
   "outputs": [
    {
     "name": "stdout",
     "output_type": "stream",
     "text": [
      "Epoch 1/10\n",
      "938/938 [==============================] - 2s 3ms/step - loss: 0.3683 - accuracy: 0.8976\n",
      "Epoch 2/10\n",
      "938/938 [==============================] - 2s 2ms/step - loss: 0.1957 - accuracy: 0.9444\n",
      "Epoch 3/10\n",
      "938/938 [==============================] - 2s 3ms/step - loss: 0.1476 - accuracy: 0.9577\n",
      "Epoch 4/10\n",
      "938/938 [==============================] - 2s 2ms/step - loss: 0.1195 - accuracy: 0.9659\n",
      "Epoch 5/10\n",
      "938/938 [==============================] - 2s 3ms/step - loss: 0.1009 - accuracy: 0.9712\n",
      "Epoch 6/10\n",
      "938/938 [==============================] - 2s 2ms/step - loss: 0.0874 - accuracy: 0.9753\n",
      "Epoch 7/10\n",
      "938/938 [==============================] - 2s 2ms/step - loss: 0.0767 - accuracy: 0.9786\n",
      "Epoch 8/10\n",
      "938/938 [==============================] - 3s 3ms/step - loss: 0.0676 - accuracy: 0.9809\n",
      "Epoch 9/10\n",
      "938/938 [==============================] - 3s 3ms/step - loss: 0.0614 - accuracy: 0.9832\n",
      "Epoch 10/10\n",
      "938/938 [==============================] - 3s 3ms/step - loss: 0.0555 - accuracy: 0.9847\n"
     ]
    },
    {
     "data": {
      "text/plain": [
       "<tensorflow.python.keras.callbacks.History at 0x1a996efa0c8>"
      ]
     },
     "execution_count": 3,
     "metadata": {},
     "output_type": "execute_result"
    }
   ],
   "source": [
    "mnist=tf.keras.datasets.mnist\n",
    "(train_images,train_labels),(test_images,test_labels)=mnist.load_data()\n",
    "train_images=(np.expand_dims(train_images,axis=-1)/255).astype(np.float32)\n",
    "test_images = (np.expand_dims(test_images, axis=-1)/255.).astype(np.float32)\n",
    "train_labels=(train_labels).astype(np.int64)\n",
    "test_labels=(test_labels).astype(np.int64)\n",
    "def model_mnist():\n",
    "    model= tf.keras.Sequential([\n",
    "      tf.keras.layers.Flatten(),\n",
    "      tf.keras.layers.Dense(128, activation= tf.nn.relu),\n",
    "      tf.keras.layers.Dense(10,activation=tf.nn.softmax)])\n",
    "    return(model)\n",
    "m1=model_mnist()\n",
    "m1.compile(optimizer=tf.keras.optimizers.SGD(learning_rate=1e-1), \n",
    "              loss='sparse_categorical_crossentropy',\n",
    "              metrics=['accuracy'])\n",
    "BATCH_SIZE = 64\n",
    "EPOCHS = 10\n",
    "m1.fit(train_images, train_labels, batch_size=BATCH_SIZE, epochs=EPOCHS)"
   ]
  },
  {
   "cell_type": "code",
   "execution_count": 4,
   "metadata": {},
   "outputs": [
    {
     "name": "stdout",
     "output_type": "stream",
     "text": [
      "313/313 [==============================] - 0s 2ms/step - loss: 0.0778 - accuracy: 0.9752\n",
      "Test accuracy: 0.9751999974250793\n"
     ]
    }
   ],
   "source": [
    "test_loss, test_acc = m1.evaluate(test_images,test_labels)\n",
    "print('Test accuracy:', test_acc)"
   ]
  },
  {
   "cell_type": "code",
   "execution_count": 5,
   "metadata": {},
   "outputs": [
    {
     "name": "stdout",
     "output_type": "stream",
     "text": [
      "Epoch 1/10\n",
      "938/938 [==============================] - 2s 3ms/step - loss: 0.3410 - accuracy: 0.9007\n",
      "Epoch 2/10\n",
      "938/938 [==============================] - 3s 3ms/step - loss: 0.1517 - accuracy: 0.9549\n",
      "Epoch 3/10\n",
      "938/938 [==============================] - 3s 3ms/step - loss: 0.1089 - accuracy: 0.9674\n",
      "Epoch 4/10\n",
      "938/938 [==============================] - 3s 3ms/step - loss: 0.0851 - accuracy: 0.9745\n",
      "Epoch 5/10\n",
      "938/938 [==============================] - 3s 3ms/step - loss: 0.0695 - accuracy: 0.9797\n",
      "Epoch 6/10\n",
      "938/938 [==============================] - 3s 3ms/step - loss: 0.0573 - accuracy: 0.9833\n",
      "Epoch 7/10\n",
      "938/938 [==============================] - 3s 3ms/step - loss: 0.0490 - accuracy: 0.9859\n",
      "Epoch 8/10\n",
      "938/938 [==============================] - 3s 3ms/step - loss: 0.0415 - accuracy: 0.9882\n",
      "Epoch 9/10\n",
      "938/938 [==============================] - 3s 3ms/step - loss: 0.0350 - accuracy: 0.9900\n",
      "Epoch 10/10\n",
      "938/938 [==============================] - 3s 3ms/step - loss: 0.0299 - accuracy: 0.9913\n"
     ]
    },
    {
     "data": {
      "text/plain": [
       "<tensorflow.python.keras.callbacks.History at 0x1a99811f548>"
      ]
     },
     "execution_count": 5,
     "metadata": {},
     "output_type": "execute_result"
    }
   ],
   "source": [
    "def model_mnist():\n",
    "    model= tf.keras.Sequential([\n",
    "      tf.keras.layers.Flatten(),\n",
    "      tf.keras.layers.Dense(128, activation= tf.nn.relu),\n",
    "      tf.keras.layers.Dense(128, activation= tf.nn.relu),\n",
    "      tf.keras.layers.Dense(10,activation=tf.nn.softmax)])\n",
    "    return(model)\n",
    "m1=model_mnist()\n",
    "m1.compile(optimizer=tf.keras.optimizers.SGD(learning_rate=1e-1), \n",
    "              loss='sparse_categorical_crossentropy',\n",
    "              metrics=['accuracy'])\n",
    "BATCH_SIZE = 64\n",
    "EPOCHS = 10\n",
    "m1.fit(train_images, train_labels, batch_size=BATCH_SIZE, epochs=EPOCHS)"
   ]
  },
  {
   "cell_type": "code",
   "execution_count": 6,
   "metadata": {},
   "outputs": [
    {
     "name": "stdout",
     "output_type": "stream",
     "text": [
      "313/313 [==============================] - 1s 2ms/step - loss: 0.0732 - accuracy: 0.9762\n",
      "Test accuracy: 0.9761999845504761\n"
     ]
    }
   ],
   "source": [
    "test_loss, test_acc = m1.evaluate(test_images,test_labels)\n",
    "print('Test accuracy:', test_acc)"
   ]
  },
  {
   "cell_type": "code",
   "execution_count": 10,
   "metadata": {},
   "outputs": [
    {
     "name": "stdout",
     "output_type": "stream",
     "text": [
      "Epoch 1/10\n",
      "938/938 [==============================] - 4s 4ms/step - loss: 0.3499 - accuracy: 0.8999\n",
      "Epoch 2/10\n",
      "938/938 [==============================] - 2s 2ms/step - loss: 0.1589 - accuracy: 0.9527\n",
      "Epoch 3/10\n",
      "938/938 [==============================] - 2s 2ms/step - loss: 0.1135 - accuracy: 0.9667\n",
      "Epoch 4/10\n",
      "938/938 [==============================] - 2s 2ms/step - loss: 0.0880 - accuracy: 0.9735\n",
      "Epoch 5/10\n",
      "938/938 [==============================] - 2s 2ms/step - loss: 0.0726 - accuracy: 0.9786\n",
      "Epoch 6/10\n",
      "938/938 [==============================] - 2s 2ms/step - loss: 0.0600 - accuracy: 0.9821\n",
      "Epoch 7/10\n",
      "938/938 [==============================] - 2s 3ms/step - loss: 0.0511 - accuracy: 0.9848\n",
      "Epoch 8/10\n",
      "938/938 [==============================] - 2s 3ms/step - loss: 0.0437 - accuracy: 0.9866\n",
      "Epoch 9/10\n",
      "938/938 [==============================] - 3s 3ms/step - loss: 0.0368 - accuracy: 0.9891\n",
      "Epoch 10/10\n",
      "938/938 [==============================] - 2s 3ms/step - loss: 0.0319 - accuracy: 0.9902\n",
      "313/313 [==============================] - 0s 1ms/step - loss: 0.0773 - accuracy: 0.9754\n",
      "Test accuracy: 0.9753999710083008\n",
      "Epoch 1/10\n",
      "938/938 [==============================] - 2s 2ms/step - loss: 0.3840 - accuracy: 0.8874\n",
      "Epoch 2/10\n",
      "938/938 [==============================] - 2s 2ms/step - loss: 0.1791 - accuracy: 0.9467\n",
      "Epoch 3/10\n",
      "938/938 [==============================] - 2s 3ms/step - loss: 0.1328 - accuracy: 0.9603\n",
      "Epoch 4/10\n",
      "938/938 [==============================] - 2s 2ms/step - loss: 0.1097 - accuracy: 0.9667\n",
      "Epoch 5/10\n",
      "938/938 [==============================] - 2s 2ms/step - loss: 0.0933 - accuracy: 0.9713\n",
      "Epoch 6/10\n",
      "938/938 [==============================] - 2s 3ms/step - loss: 0.0793 - accuracy: 0.9756\n",
      "Epoch 7/10\n",
      "938/938 [==============================] - 2s 3ms/step - loss: 0.0714 - accuracy: 0.9779\n",
      "Epoch 8/10\n",
      "938/938 [==============================] - 2s 2ms/step - loss: 0.0649 - accuracy: 0.9799\n",
      "Epoch 9/10\n",
      "938/938 [==============================] - 2s 2ms/step - loss: 0.0585 - accuracy: 0.9814\n",
      "Epoch 10/10\n",
      "938/938 [==============================] - 2s 3ms/step - loss: 0.0549 - accuracy: 0.9828\n",
      "313/313 [==============================] - 0s 1ms/step - loss: 0.0691 - accuracy: 0.9781\n",
      "Test accuracy: 0.9781000018119812\n",
      "Epoch 1/10\n",
      "938/938 [==============================] - 2s 2ms/step - loss: 0.4398 - accuracy: 0.8687\n",
      "Epoch 2/10\n",
      "938/938 [==============================] - 2s 2ms/step - loss: 0.2144 - accuracy: 0.9367\n",
      "Epoch 3/10\n",
      "938/938 [==============================] - 2s 3ms/step - loss: 0.1640 - accuracy: 0.9511\n",
      "Epoch 4/10\n",
      "938/938 [==============================] - 3s 3ms/step - loss: 0.1360 - accuracy: 0.9599\n",
      "Epoch 5/10\n",
      "938/938 [==============================] - 2s 3ms/step - loss: 0.1194 - accuracy: 0.9632\n",
      "Epoch 6/10\n",
      "938/938 [==============================] - 2s 2ms/step - loss: 0.1056 - accuracy: 0.9680\n",
      "Epoch 7/10\n",
      "938/938 [==============================] - 2s 2ms/step - loss: 0.0974 - accuracy: 0.9699\n",
      "Epoch 8/10\n",
      "938/938 [==============================] - 2s 2ms/step - loss: 0.0898 - accuracy: 0.9723\n",
      "Epoch 9/10\n",
      "938/938 [==============================] - 2s 2ms/step - loss: 0.0823 - accuracy: 0.9754\n",
      "Epoch 10/10\n",
      "938/938 [==============================] - 2s 2ms/step - loss: 0.0771 - accuracy: 0.9768\n",
      "313/313 [==============================] - 0s 908us/step - loss: 0.0703 - accuracy: 0.9801\n",
      "Test accuracy: 0.9800999760627747\n",
      "Epoch 1/10\n",
      "938/938 [==============================] - 2s 2ms/step - loss: 0.4876 - accuracy: 0.8506\n",
      "Epoch 2/10\n",
      "938/938 [==============================] - 2s 2ms/step - loss: 0.2475 - accuracy: 0.9257\n",
      "Epoch 3/10\n",
      "938/938 [==============================] - 2s 2ms/step - loss: 0.1979 - accuracy: 0.9414\n",
      "Epoch 4/10\n",
      "938/938 [==============================] - 2s 2ms/step - loss: 0.1683 - accuracy: 0.9499\n",
      "Epoch 5/10\n",
      "938/938 [==============================] - 2s 2ms/step - loss: 0.1481 - accuracy: 0.9559\n",
      "Epoch 6/10\n",
      "938/938 [==============================] - 2s 2ms/step - loss: 0.1342 - accuracy: 0.9595\n",
      "Epoch 7/10\n",
      "938/938 [==============================] - 2s 2ms/step - loss: 0.1223 - accuracy: 0.9627\n",
      "Epoch 8/10\n",
      "938/938 [==============================] - 2s 2ms/step - loss: 0.1165 - accuracy: 0.9650\n",
      "Epoch 9/10\n",
      "938/938 [==============================] - 2s 2ms/step - loss: 0.1076 - accuracy: 0.9669\n",
      "Epoch 10/10\n",
      "938/938 [==============================] - 2s 2ms/step - loss: 0.1055 - accuracy: 0.9681\n",
      "313/313 [==============================] - 0s 964us/step - loss: 0.0780 - accuracy: 0.9754\n",
      "Test accuracy: 0.9753999710083008\n",
      "Epoch 1/10\n",
      "938/938 [==============================] - 2s 2ms/step - loss: 0.5540 - accuracy: 0.8270\n",
      "Epoch 2/10\n",
      "938/938 [==============================] - 2s 2ms/step - loss: 0.2914 - accuracy: 0.9147\n",
      "Epoch 3/10\n",
      "938/938 [==============================] - 2s 2ms/step - loss: 0.2389 - accuracy: 0.9303\n",
      "Epoch 4/10\n",
      "938/938 [==============================] - 2s 2ms/step - loss: 0.2054 - accuracy: 0.9393\n",
      "Epoch 5/10\n",
      "938/938 [==============================] - 2s 2ms/step - loss: 0.1835 - accuracy: 0.9458\n",
      "Epoch 6/10\n",
      "938/938 [==============================] - 2s 2ms/step - loss: 0.1688 - accuracy: 0.9502\n",
      "Epoch 7/10\n",
      "938/938 [==============================] - 2s 2ms/step - loss: 0.1579 - accuracy: 0.9531\n",
      "Epoch 8/10\n",
      "938/938 [==============================] - 2s 2ms/step - loss: 0.1480 - accuracy: 0.9560\n",
      "Epoch 9/10\n",
      "938/938 [==============================] - 2s 2ms/step - loss: 0.1399 - accuracy: 0.9580\n",
      "Epoch 10/10\n",
      "938/938 [==============================] - 2s 2ms/step - loss: 0.1344 - accuracy: 0.9595\n",
      "313/313 [==============================] - 0s 876us/step - loss: 0.0911 - accuracy: 0.9717\n",
      "Test accuracy: 0.9717000126838684\n",
      "Epoch 1/10\n",
      "938/938 [==============================] - 2s 2ms/step - loss: 0.6529 - accuracy: 0.7954\n",
      "Epoch 2/10\n",
      "938/938 [==============================] - 2s 2ms/step - loss: 0.3661 - accuracy: 0.8944\n",
      "Epoch 3/10\n",
      "938/938 [==============================] - 2s 2ms/step - loss: 0.2994 - accuracy: 0.9137\n",
      "Epoch 4/10\n",
      "938/938 [==============================] - 2s 2ms/step - loss: 0.2675 - accuracy: 0.9221\n",
      "Epoch 5/10\n",
      "938/938 [==============================] - 2s 2ms/step - loss: 0.2465 - accuracy: 0.9284\n",
      "Epoch 6/10\n",
      "938/938 [==============================] - 2s 2ms/step - loss: 0.2261 - accuracy: 0.9348\n",
      "Epoch 7/10\n",
      "938/938 [==============================] - 2s 2ms/step - loss: 0.2112 - accuracy: 0.9383\n",
      "Epoch 8/10\n",
      "938/938 [==============================] - 2s 2ms/step - loss: 0.1988 - accuracy: 0.9428\n",
      "Epoch 9/10\n",
      "938/938 [==============================] - 2s 2ms/step - loss: 0.1929 - accuracy: 0.9435\n",
      "Epoch 10/10\n",
      "938/938 [==============================] - 2s 2ms/step - loss: 0.1815 - accuracy: 0.9463\n",
      "313/313 [==============================] - 0s 869us/step - loss: 0.1016 - accuracy: 0.9696\n",
      "Test accuracy: 0.9696000218391418\n",
      "Epoch 1/10\n",
      "938/938 [==============================] - 2s 2ms/step - loss: 0.7594 - accuracy: 0.7596\n",
      "Epoch 2/10\n",
      "938/938 [==============================] - 3s 3ms/step - loss: 0.4439 - accuracy: 0.8723\n",
      "Epoch 3/10\n",
      "938/938 [==============================] - 3s 3ms/step - loss: 0.3771 - accuracy: 0.8909\n",
      "Epoch 4/10\n",
      "938/938 [==============================] - 2s 3ms/step - loss: 0.3337 - accuracy: 0.9038\n",
      "Epoch 5/10\n",
      "938/938 [==============================] - 3s 3ms/step - loss: 0.3094 - accuracy: 0.9108\n",
      "Epoch 6/10\n",
      "938/938 [==============================] - 3s 3ms/step - loss: 0.2904 - accuracy: 0.9168\n",
      "Epoch 7/10\n",
      "938/938 [==============================] - 3s 3ms/step - loss: 0.2754 - accuracy: 0.9218\n",
      "Epoch 8/10\n",
      "938/938 [==============================] - 3s 3ms/step - loss: 0.2737 - accuracy: 0.9220\n",
      "Epoch 9/10\n",
      "938/938 [==============================] - 3s 3ms/step - loss: 0.2569 - accuracy: 0.9267\n",
      "Epoch 10/10\n",
      "938/938 [==============================] - 3s 3ms/step - loss: 0.2499 - accuracy: 0.9279\n",
      "313/313 [==============================] - 0s 1ms/step - loss: 0.1223 - accuracy: 0.9654\n",
      "Test accuracy: 0.965399980545044\n",
      "Epoch 1/10\n",
      "938/938 [==============================] - 2s 3ms/step - loss: 0.9935 - accuracy: 0.6739\n",
      "Epoch 2/10\n",
      "938/938 [==============================] - 3s 3ms/step - loss: 0.6119 - accuracy: 0.8200\n",
      "Epoch 3/10\n",
      "938/938 [==============================] - 2s 2ms/step - loss: 0.5231 - accuracy: 0.8512\n",
      "Epoch 4/10\n"
     ]
    },
    {
     "name": "stdout",
     "output_type": "stream",
     "text": [
      "938/938 [==============================] - 2s 2ms/step - loss: 0.4819 - accuracy: 0.8624\n",
      "Epoch 5/10\n",
      "938/938 [==============================] - 2s 2ms/step - loss: 0.4520 - accuracy: 0.8720\n",
      "Epoch 6/10\n",
      "938/938 [==============================] - 2s 2ms/step - loss: 0.4294 - accuracy: 0.8768\n",
      "Epoch 7/10\n",
      "938/938 [==============================] - 2s 2ms/step - loss: 0.4149 - accuracy: 0.8832\n",
      "Epoch 8/10\n",
      "938/938 [==============================] - 2s 2ms/step - loss: 0.4004 - accuracy: 0.8882\n",
      "Epoch 9/10\n",
      "938/938 [==============================] - 2s 2ms/step - loss: 0.3880 - accuracy: 0.8932\n",
      "Epoch 10/10\n",
      "938/938 [==============================] - 2s 2ms/step - loss: 0.3849 - accuracy: 0.8926\n",
      "313/313 [==============================] - 0s 933us/step - loss: 0.1722 - accuracy: 0.9517\n",
      "Test accuracy: 0.95169997215271\n",
      "Epoch 1/10\n",
      "938/938 [==============================] - 2s 2ms/step - loss: 1.5046 - accuracy: 0.4694\n",
      "Epoch 2/10\n",
      "938/938 [==============================] - 2s 2ms/step - loss: 1.0920 - accuracy: 0.6354\n",
      "Epoch 3/10\n",
      "938/938 [==============================] - 2s 2ms/step - loss: 0.9693 - accuracy: 0.6852\n",
      "Epoch 4/10\n",
      "938/938 [==============================] - 2s 2ms/step - loss: 0.9053 - accuracy: 0.7101\n",
      "Epoch 5/10\n",
      "938/938 [==============================] - 2s 2ms/step - loss: 0.8735 - accuracy: 0.7235\n",
      "Epoch 6/10\n",
      "938/938 [==============================] - 2s 2ms/step - loss: 0.8193 - accuracy: 0.7424\n",
      "Epoch 7/10\n",
      "938/938 [==============================] - 2s 3ms/step - loss: 0.8019 - accuracy: 0.7497\n",
      "Epoch 8/10\n",
      "938/938 [==============================] - 2s 2ms/step - loss: 0.7861 - accuracy: 0.7563\n",
      "Epoch 9/10\n",
      "938/938 [==============================] - 2s 2ms/step - loss: 0.7686 - accuracy: 0.7612\n",
      "Epoch 10/10\n",
      "938/938 [==============================] - 2s 2ms/step - loss: 0.7538 - accuracy: 0.7668\n",
      "  1/313 [..............................] - ETA: 0s - loss: 0.1970 - accuracy: 0.9375WARNING:tensorflow:Callbacks method `on_test_batch_end` is slow compared to the batch time (batch time: 0.0000s vs `on_test_batch_end` time: 0.0010s). Check your callbacks.\n",
      "313/313 [==============================] - 0s 931us/step - loss: 0.3132 - accuracy: 0.9275\n",
      "Test accuracy: 0.9275000095367432\n",
      "Epoch 1/10\n",
      "938/938 [==============================] - 2s 2ms/step - loss: 2.2501 - accuracy: 0.1352\n",
      "Epoch 2/10\n",
      "938/938 [==============================] - 2s 2ms/step - loss: 2.1246 - accuracy: 0.1836\n",
      "Epoch 3/10\n",
      "938/938 [==============================] - 2s 2ms/step - loss: 2.0810 - accuracy: 0.1987\n",
      "Epoch 4/10\n",
      "938/938 [==============================] - 2s 2ms/step - loss: 2.0463 - accuracy: 0.2112\n",
      "Epoch 5/10\n",
      "938/938 [==============================] - 2s 3ms/step - loss: 2.0200 - accuracy: 0.2179\n",
      "Epoch 6/10\n",
      "938/938 [==============================] - 2s 2ms/step - loss: 2.0093 - accuracy: 0.2216\n",
      "Epoch 7/10\n",
      "938/938 [==============================] - 2s 2ms/step - loss: 1.9961 - accuracy: 0.2239\n",
      "Epoch 8/10\n",
      "938/938 [==============================] - 2s 2ms/step - loss: 1.9828 - accuracy: 0.2307\n",
      "Epoch 9/10\n",
      "938/938 [==============================] - 2s 2ms/step - loss: 1.9656 - accuracy: 0.2371\n",
      "Epoch 10/10\n",
      "938/938 [==============================] - 2s 2ms/step - loss: 1.9517 - accuracy: 0.2422\n",
      "313/313 [==============================] - 0s 857us/step - loss: 1.7733 - accuracy: 0.3876\n",
      "Test accuracy: 0.38760000467300415\n"
     ]
    }
   ],
   "source": [
    "def model_mnist(i):\n",
    "    model= tf.keras.Sequential([\n",
    "      tf.keras.layers.Flatten(),\n",
    "      tf.keras.layers.Dense(128, activation= tf.nn.relu),\n",
    "      tf.keras.layers.Dropout(rate=i),\n",
    "      tf.keras.layers.Dense(128, activation= tf.nn.relu),\n",
    "      tf.keras.layers.Dropout(rate=i),\n",
    "      tf.keras.layers.Dense(10,activation=tf.nn.softmax)])\n",
    "    return(model)\n",
    "for i in np.arange(0,1,0.1):\n",
    "    m1=model_mnist(i)\n",
    "    m1.compile(optimizer=tf.keras.optimizers.SGD(learning_rate=1e-1), \n",
    "              loss='sparse_categorical_crossentropy',\n",
    "              metrics=['accuracy'])\n",
    "    BATCH_SIZE = 64\n",
    "    EPOCHS = 10\n",
    "    m1.fit(train_images, train_labels, batch_size=BATCH_SIZE, epochs=EPOCHS)\n",
    "    test_loss, test_acc = m1.evaluate(test_images,test_labels)\n",
    "    print('Test accuracy:', test_acc)"
   ]
  },
  {
   "cell_type": "markdown",
   "metadata": {},
   "source": [
    "* How many layers, and how many nodes per layer should I start with?\n",
    "  * Where should I apply dropout layers, and what percent dropout should I use in those layers?\n",
    "--> 0.2 , after 0.2 the loss increases."
   ]
  },
  {
   "cell_type": "code",
   "execution_count": 12,
   "metadata": {},
   "outputs": [
    {
     "name": "stdout",
     "output_type": "stream",
     "text": [
      "Epoch 1/10\n",
      "938/938 [==============================] - 5s 5ms/step - loss: 0.2579 - accuracy: 0.9247\n",
      "Epoch 2/10\n",
      "938/938 [==============================] - 3s 3ms/step - loss: 0.1070 - accuracy: 0.9672\n",
      "Epoch 3/10\n",
      "938/938 [==============================] - 3s 3ms/step - loss: 0.0729 - accuracy: 0.9778\n",
      "Epoch 4/10\n",
      "938/938 [==============================] - 2s 2ms/step - loss: 0.0552 - accuracy: 0.9822\n",
      "Epoch 5/10\n",
      "938/938 [==============================] - 2s 2ms/step - loss: 0.0429 - accuracy: 0.9862\n",
      "Epoch 6/10\n",
      "938/938 [==============================] - 2s 2ms/step - loss: 0.0356 - accuracy: 0.9881\n",
      "Epoch 7/10\n",
      "938/938 [==============================] - 2s 2ms/step - loss: 0.0276 - accuracy: 0.9912\n",
      "Epoch 8/10\n",
      "938/938 [==============================] - 2s 2ms/step - loss: 0.0231 - accuracy: 0.9924\n",
      "Epoch 9/10\n",
      "938/938 [==============================] - 2s 2ms/step - loss: 0.0214 - accuracy: 0.9927\n",
      "Epoch 10/10\n",
      "938/938 [==============================] - 2s 2ms/step - loss: 0.0171 - accuracy: 0.9942\n"
     ]
    },
    {
     "data": {
      "text/plain": [
       "<tensorflow.python.keras.callbacks.History at 0x1a99a5a0d48>"
      ]
     },
     "execution_count": 12,
     "metadata": {},
     "output_type": "execute_result"
    }
   ],
   "source": [
    "def model_mnist():\n",
    "    model= tf.keras.Sequential([\n",
    "      tf.keras.layers.Flatten(),\n",
    "      tf.keras.layers.Dense(128, activation= tf.nn.relu),\n",
    "      tf.keras.layers.Dense(128, activation= tf.nn.relu),\n",
    "      tf.keras.layers.Dense(10,activation=tf.nn.softmax)])\n",
    "    return(model)\n",
    "m1=model_mnist()\n",
    "m1.compile(optimizer=\"adam\", \n",
    "              loss='sparse_categorical_crossentropy',\n",
    "              metrics=['accuracy'])\n",
    "BATCH_SIZE = 64\n",
    "EPOCHS = 10\n",
    "m1.fit(train_images, train_labels, batch_size=BATCH_SIZE, epochs=EPOCHS)"
   ]
  },
  {
   "cell_type": "code",
   "execution_count": 13,
   "metadata": {},
   "outputs": [
    {
     "name": "stdout",
     "output_type": "stream",
     "text": [
      "313/313 [==============================] - 0s 1ms/step - loss: 0.0752 - accuracy: 0.9787\n",
      "Test accuracy: 0.9786999821662903\n"
     ]
    }
   ],
   "source": [
    "test_loss, test_acc = m1.evaluate(test_images,test_labels)\n",
    "print('Test accuracy:', test_acc)"
   ]
  },
  {
   "cell_type": "markdown",
   "metadata": {},
   "source": [
    "* Which optimizer should I use?\n",
    "--> SGD and adam perform really well inspite adam having a little better test accuracy"
   ]
  },
  {
   "cell_type": "markdown",
   "metadata": {},
   "source": [
    "* Which activation function should I use on these layers?\n",
    " ->>relu for hidden layers and softmax for final layer \n",
    "* Which loss function should I use?\n",
    "->> sparse_categorical_crossentropy"
   ]
  },
  {
   "cell_type": "code",
   "execution_count": 22,
   "metadata": {},
   "outputs": [
    {
     "name": "stdout",
     "output_type": "stream",
     "text": [
      "Epoch 1/10\n",
      "1125/1125 - 4s - loss: 0.0094 - accuracy: 0.9969 - val_loss: 0.0466 - val_accuracy: 0.9885\n",
      "Epoch 2/10\n",
      "1125/1125 - 3s - loss: 0.0129 - accuracy: 0.9957 - val_loss: 0.0784 - val_accuracy: 0.9809\n"
     ]
    }
   ],
   "source": [
    "from tensorflow.keras.callbacks import EarlyStopping\n",
    "early_stopping = EarlyStopping()\n",
    "history = m1.fit(\n",
    "    train_images, \n",
    "    train_labels, \n",
    "    epochs=10, \n",
    "    validation_split=0.25, \n",
    "    batch_size=40, \n",
    "    verbose=2,\n",
    "    callbacks=[early_stopping]\n",
    ")"
   ]
  },
  {
   "cell_type": "code",
   "execution_count": 23,
   "metadata": {},
   "outputs": [],
   "source": [
    "def plot_metric(history, metric):\n",
    "    train_metrics = history.history[metric]\n",
    "    val_metrics = history.history['val_'+metric]\n",
    "    epochs = range(1, len(train_metrics) + 1)\n",
    "    plt.plot(epochs, train_metrics)\n",
    "    plt.plot(epochs, val_metrics)\n",
    "    plt.title('Training and validation '+ metric)\n",
    "    plt.xlabel(\"Epochs\")\n",
    "    plt.ylabel(metric)\n",
    "    plt.legend([\"train_\"+metric, 'val_'+metric])\n",
    "    plt.show()"
   ]
  },
  {
   "cell_type": "code",
   "execution_count": 24,
   "metadata": {},
   "outputs": [
    {
     "data": {
      "image/png": "[encoded data removed]",
      "text/plain": [
       "<Figure size 432x288 with 1 Axes>"
      ]
     },
     "metadata": {
      "needs_background": "light"
     },
     "output_type": "display_data"
    }
   ],
   "source": [
    "plot_metric(history, 'loss')"
   ]
  },
  {
   "cell_type": "markdown",
   "metadata": {},
   "source": [
    "* Should I enable early stopping?\n",
    "->> yes \n",
    "* What parameters should I use related to early stopping?\n",
    "->>     no. of nodes and no. of layers can be reduced "
   ]
  },
  {
   "cell_type": "code",
   "execution_count": 26,
   "metadata": {},
   "outputs": [
    {
     "name": "stdout",
     "output_type": "stream",
     "text": [
      "Epoch 1/10\n",
      "938/938 [==============================] - 4s 4ms/step - loss: 0.4073 - accuracy: 0.8832\n",
      "Epoch 2/10\n",
      "938/938 [==============================] - 3s 3ms/step - loss: 0.2187 - accuracy: 0.9374\n",
      "Epoch 3/10\n",
      "938/938 [==============================] - 2s 2ms/step - loss: 0.1720 - accuracy: 0.9504\n",
      "Epoch 4/10\n",
      "938/938 [==============================] - 3s 4ms/step - loss: 0.1463 - accuracy: 0.9577\n",
      "Epoch 5/10\n",
      "938/938 [==============================] - 3s 3ms/step - loss: 0.1281 - accuracy: 0.9629\n",
      "Epoch 6/10\n",
      "938/938 [==============================] - 2s 2ms/step - loss: 0.1161 - accuracy: 0.9658\n",
      "Epoch 7/10\n",
      "938/938 [==============================] - 2s 2ms/step - loss: 0.1040 - accuracy: 0.9700\n",
      "Epoch 8/10\n",
      "938/938 [==============================] - 2s 3ms/step - loss: 0.0982 - accuracy: 0.9711\n",
      "Epoch 9/10\n",
      "938/938 [==============================] - 2s 2ms/step - loss: 0.0885 - accuracy: 0.9738\n",
      "Epoch 10/10\n",
      "938/938 [==============================] - 2s 2ms/step - loss: 0.0841 - accuracy: 0.9750\n"
     ]
    },
    {
     "data": {
      "text/plain": [
       "<tensorflow.python.keras.callbacks.History at 0x1a99b9124c8>"
      ]
     },
     "execution_count": 26,
     "metadata": {},
     "output_type": "execute_result"
    }
   ],
   "source": [
    "def model_mnist():\n",
    "    model= tf.keras.Sequential([\n",
    "      tf.keras.layers.Flatten(),\n",
    "      tf.keras.layers.Dense(128, activation= tf.nn.relu),\n",
    "      tf.keras.layers.Dropout(rate=0.2),\n",
    "      tf.keras.layers.Dense(10,activation=tf.nn.softmax)])\n",
    "    return(model)\n",
    "m1=model_mnist()\n",
    "m1.compile(optimizer=tf.keras.optimizers.SGD(learning_rate=1e-1), \n",
    "              loss='sparse_categorical_crossentropy',\n",
    "              metrics=['accuracy'])\n",
    "BATCH_SIZE = 64\n",
    "EPOCHS = 10\n",
    "m1.fit(train_images, train_labels, batch_size=BATCH_SIZE, epochs=EPOCHS)"
   ]
  },
  {
   "cell_type": "code",
   "execution_count": 27,
   "metadata": {},
   "outputs": [
    {
     "name": "stdout",
     "output_type": "stream",
     "text": [
      "313/313 [==============================] - 0s 1ms/step - loss: 0.0774 - accuracy: 0.9768\n",
      "Test accuracy: 0.9768000245094299\n"
     ]
    }
   ],
   "source": [
    "test_loss, test_acc = m1.evaluate(test_images,test_labels)\n",
    "print('Test accuracy:', test_acc)"
   ]
  },
  {
   "cell_type": "code",
   "execution_count": 32,
   "metadata": {},
   "outputs": [
    {
     "name": "stdout",
     "output_type": "stream",
     "text": [
      "Epoch 1/10\n",
      "1350/1350 - 3s - loss: 0.0688 - accuracy: 0.9792 - val_loss: 0.0505 - val_accuracy: 0.9858\n",
      "Epoch 2/10\n",
      "1350/1350 - 3s - loss: 0.0631 - accuracy: 0.9803 - val_loss: 0.0511 - val_accuracy: 0.9862\n"
     ]
    }
   ],
   "source": [
    "early_stopping = EarlyStopping()\n",
    "history = m1.fit(\n",
    "    train_images, \n",
    "    train_labels, \n",
    "    epochs=10, \n",
    "    validation_split=0.1, \n",
    "    batch_size=40, \n",
    "    verbose=2,\n",
    "    callbacks=[early_stopping]\n",
    ")"
   ]
  },
  {
   "cell_type": "code",
   "execution_count": 33,
   "metadata": {},
   "outputs": [
    {
     "data": {
      "image/png": "[encoded data removed]",
      "text/plain": [
       "<Figure size 432x288 with 1 Axes>"
      ]
     },
     "metadata": {
      "needs_background": "light"
     },
     "output_type": "display_data"
    }
   ],
   "source": [
    "plot_metric(history, 'loss')"
   ]
  },
  {
   "cell_type": "code",
   "execution_count": null,
   "metadata": {},
   "outputs": [],
   "source": []
  }
 ],
 "metadata": {
  "kernelspec": {
   "display_name": "Python 3",
   "language": "python",
   "name": "python3"
  },
  "language_info": {
   "codemirror_mode": {
    "name": "ipython",
    "version": 3
   },
   "file_extension": ".py",
   "mimetype": "text/x-python",
   "name": "python",
   "nbconvert_exporter": "python",
   "pygments_lexer": "ipython3",
   "version": "3.7.6"
  }
 },
 "nbformat": 4,
 "nbformat_minor": 4
}
