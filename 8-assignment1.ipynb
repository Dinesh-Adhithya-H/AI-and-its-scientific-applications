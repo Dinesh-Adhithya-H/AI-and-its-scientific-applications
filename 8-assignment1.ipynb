{
 "cells": [
  {
   "cell_type": "code",
   "execution_count": 2,
   "metadata": {},
   "outputs": [],
   "source": [
    "#importing neccesary modules\n",
    "import matplotlib.pyplot as plt\n",
    "import numpy as np\n",
    "import sklearn as sk\n",
    "import pandas as pd"
   ]
  },
  {
   "cell_type": "code",
   "execution_count": 3,
   "metadata": {},
   "outputs": [],
   "source": [
    "file=pd.read_csv(\"file.csv\",delimiter=\";\")"
   ]
  },
  {
   "cell_type": "code",
   "execution_count": 4,
   "metadata": {},
   "outputs": [],
   "source": [
    "file=file.dropna() "
   ]
  },
  {
   "cell_type": "code",
   "execution_count": 5,
   "metadata": {},
   "outputs": [
    {
     "data": {
      "text/html": [
       "<div>\n",
       "<style scoped>\n",
       "    .dataframe tbody tr th:only-of-type {\n",
       "        vertical-align: middle;\n",
       "    }\n",
       "\n",
       "    .dataframe tbody tr th {\n",
       "        vertical-align: top;\n",
       "    }\n",
       "\n",
       "    .dataframe thead th {\n",
       "        text-align: right;\n",
       "    }\n",
       "</style>\n",
       "<table border=\"1\" class=\"dataframe\">\n",
       "  <thead>\n",
       "    <tr style=\"text-align: right;\">\n",
       "      <th></th>\n",
       "      <th>ChEMBL ID</th>\n",
       "      <th>Name</th>\n",
       "      <th>Synonyms</th>\n",
       "      <th>Type</th>\n",
       "      <th>Max Phase</th>\n",
       "      <th>Molecular Weight</th>\n",
       "      <th>Targets</th>\n",
       "      <th>Bioactivities</th>\n",
       "      <th>AlogP</th>\n",
       "      <th>PSA</th>\n",
       "      <th>...</th>\n",
       "      <th>Structure Type</th>\n",
       "      <th>Inorganic Flag</th>\n",
       "      <th>Heavy Atoms</th>\n",
       "      <th>HBA Lipinski</th>\n",
       "      <th>HBD Lipinski</th>\n",
       "      <th>#RO5 Violations (Lipinski)</th>\n",
       "      <th>Molecular Weight (Monoisotopic)</th>\n",
       "      <th>Molecular Species</th>\n",
       "      <th>Molecular Formula</th>\n",
       "      <th>Smiles</th>\n",
       "    </tr>\n",
       "  </thead>\n",
       "  <tbody>\n",
       "    <tr>\n",
       "      <th>16</th>\n",
       "      <td>CHEMBL27193</td>\n",
       "      <td>DILEVALOL</td>\n",
       "      <td>DILEVALOL</td>\n",
       "      <td>Small molecule</td>\n",
       "      <td>4</td>\n",
       "      <td>328.41</td>\n",
       "      <td>10</td>\n",
       "      <td>34</td>\n",
       "      <td>2.14</td>\n",
       "      <td>95.58</td>\n",
       "      <td>...</td>\n",
       "      <td>MOL</td>\n",
       "      <td>0</td>\n",
       "      <td>24</td>\n",
       "      <td>5</td>\n",
       "      <td>5</td>\n",
       "      <td>0</td>\n",
       "      <td>328.1787</td>\n",
       "      <td>BASE</td>\n",
       "      <td>C19H24N2O3</td>\n",
       "      <td>C[C@H](CCc1ccccc1)NC[C@H](O)c1ccc(O)c(C(N)=O)c1</td>\n",
       "    </tr>\n",
       "    <tr>\n",
       "      <th>17</th>\n",
       "      <td>CHEMBL1096435</td>\n",
       "      <td>Ro-281675</td>\n",
       "      <td>Ro-0281675</td>\n",
       "      <td>Small molecule</td>\n",
       "      <td>0</td>\n",
       "      <td>378.52</td>\n",
       "      <td>13</td>\n",
       "      <td>84</td>\n",
       "      <td>3.85</td>\n",
       "      <td>76.13</td>\n",
       "      <td>...</td>\n",
       "      <td>MOL</td>\n",
       "      <td>-1</td>\n",
       "      <td>25</td>\n",
       "      <td>5</td>\n",
       "      <td>1</td>\n",
       "      <td>0</td>\n",
       "      <td>378.1072</td>\n",
       "      <td>NEUTRAL</td>\n",
       "      <td>C18H22N2O3S2</td>\n",
       "      <td>CS(=O)(=O)c1ccc([C@@H](CC2CCCC2)C(=O)Nc2nccs2)cc1</td>\n",
       "    </tr>\n",
       "    <tr>\n",
       "      <th>18</th>\n",
       "      <td>CHEMBL1078983</td>\n",
       "      <td>AZD-2014</td>\n",
       "      <td>AZD-2014</td>\n",
       "      <td>Small molecule</td>\n",
       "      <td>0</td>\n",
       "      <td>465.55</td>\n",
       "      <td>19</td>\n",
       "      <td>33</td>\n",
       "      <td>2.64</td>\n",
       "      <td>93.07</td>\n",
       "      <td>...</td>\n",
       "      <td>MOL</td>\n",
       "      <td>-1</td>\n",
       "      <td>34</td>\n",
       "      <td>9</td>\n",
       "      <td>1</td>\n",
       "      <td>0</td>\n",
       "      <td>465.2376</td>\n",
       "      <td>NEUTRAL</td>\n",
       "      <td>C25H31N5O4</td>\n",
       "      <td>COc1ccc(-c2ccc3c(N4CCOCC4)nc(N4C[C@H](C)O[C@H]...</td>\n",
       "    </tr>\n",
       "    <tr>\n",
       "      <th>32</th>\n",
       "      <td>CHEMBL567303</td>\n",
       "      <td>PALOSURAN</td>\n",
       "      <td>ACT-058362|PALOSURAN</td>\n",
       "      <td>Small molecule</td>\n",
       "      <td>2</td>\n",
       "      <td>418.54</td>\n",
       "      <td>4</td>\n",
       "      <td>7</td>\n",
       "      <td>3.73</td>\n",
       "      <td>77.49</td>\n",
       "      <td>...</td>\n",
       "      <td>MOL</td>\n",
       "      <td>0</td>\n",
       "      <td>31</td>\n",
       "      <td>6</td>\n",
       "      <td>3</td>\n",
       "      <td>0</td>\n",
       "      <td>418.2369</td>\n",
       "      <td>NEUTRAL</td>\n",
       "      <td>C25H30N4O2</td>\n",
       "      <td>Cc1cc(NC(=O)NCCN2CCC(O)(Cc3ccccc3)CC2)c2ccccc2n1</td>\n",
       "    </tr>\n",
       "    <tr>\n",
       "      <th>35</th>\n",
       "      <td>CHEMBL149930</td>\n",
       "      <td>MEGLITINIDE</td>\n",
       "      <td>MEGLITINIDE|Meglitinide</td>\n",
       "      <td>Small molecule</td>\n",
       "      <td>0</td>\n",
       "      <td>333.77</td>\n",
       "      <td>5</td>\n",
       "      <td>12</td>\n",
       "      <td>3.02</td>\n",
       "      <td>75.63</td>\n",
       "      <td>...</td>\n",
       "      <td>MOL</td>\n",
       "      <td>0</td>\n",
       "      <td>23</td>\n",
       "      <td>5</td>\n",
       "      <td>2</td>\n",
       "      <td>0</td>\n",
       "      <td>333.0768</td>\n",
       "      <td>ACID</td>\n",
       "      <td>C17H16ClNO4</td>\n",
       "      <td>COc1ccc(Cl)cc1C(=O)NCCc1ccc(C(=O)O)cc1</td>\n",
       "    </tr>\n",
       "  </tbody>\n",
       "</table>\n",
       "<p>5 rows × 31 columns</p>\n",
       "</div>"
      ],
      "text/plain": [
       "        ChEMBL ID         Name                 Synonyms            Type  \\\n",
       "16    CHEMBL27193    DILEVALOL                DILEVALOL  Small molecule   \n",
       "17  CHEMBL1096435    Ro-281675               Ro-0281675  Small molecule   \n",
       "18  CHEMBL1078983     AZD-2014                 AZD-2014  Small molecule   \n",
       "32   CHEMBL567303    PALOSURAN     ACT-058362|PALOSURAN  Small molecule   \n",
       "35   CHEMBL149930  MEGLITINIDE  MEGLITINIDE|Meglitinide  Small molecule   \n",
       "\n",
       "    Max Phase  Molecular Weight  Targets  Bioactivities AlogP    PSA  ...  \\\n",
       "16          4            328.41       10             34  2.14  95.58  ...   \n",
       "17          0            378.52       13             84  3.85  76.13  ...   \n",
       "18          0            465.55       19             33  2.64  93.07  ...   \n",
       "32          2            418.54        4              7  3.73  77.49  ...   \n",
       "35          0            333.77        5             12  3.02  75.63  ...   \n",
       "\n",
       "   Structure Type Inorganic Flag Heavy Atoms HBA Lipinski HBD Lipinski  \\\n",
       "16            MOL              0          24            5            5   \n",
       "17            MOL             -1          25            5            1   \n",
       "18            MOL             -1          34            9            1   \n",
       "32            MOL              0          31            6            3   \n",
       "35            MOL              0          23            5            2   \n",
       "\n",
       "   #RO5 Violations (Lipinski) Molecular Weight (Monoisotopic)  \\\n",
       "16                          0                        328.1787   \n",
       "17                          0                        378.1072   \n",
       "18                          0                        465.2376   \n",
       "32                          0                        418.2369   \n",
       "35                          0                        333.0768   \n",
       "\n",
       "   Molecular Species Molecular Formula  \\\n",
       "16              BASE        C19H24N2O3   \n",
       "17           NEUTRAL      C18H22N2O3S2   \n",
       "18           NEUTRAL        C25H31N5O4   \n",
       "32           NEUTRAL        C25H30N4O2   \n",
       "35              ACID       C17H16ClNO4   \n",
       "\n",
       "                                               Smiles  \n",
       "16    C[C@H](CCc1ccccc1)NC[C@H](O)c1ccc(O)c(C(N)=O)c1  \n",
       "17  CS(=O)(=O)c1ccc([C@@H](CC2CCCC2)C(=O)Nc2nccs2)cc1  \n",
       "18  COc1ccc(-c2ccc3c(N4CCOCC4)nc(N4C[C@H](C)O[C@H]...  \n",
       "32   Cc1cc(NC(=O)NCCN2CCC(O)(Cc3ccccc3)CC2)c2ccccc2n1  \n",
       "35             COc1ccc(Cl)cc1C(=O)NCCc1ccc(C(=O)O)cc1  \n",
       "\n",
       "[5 rows x 31 columns]"
      ]
     },
     "execution_count": 5,
     "metadata": {},
     "output_type": "execute_result"
    }
   ],
   "source": [
    "file.head()"
   ]
  },
  {
   "cell_type": "code",
   "execution_count": 6,
   "metadata": {},
   "outputs": [
    {
     "name": "stdout",
     "output_type": "stream",
     "text": [
      "ChEMBL ID 4133\n",
      "Name 4105\n",
      "Synonyms 4132\n",
      "Type 3\n",
      "Max Phase 5\n",
      "Molecular Weight 3385\n",
      "Targets 436\n",
      "Bioactivities 977\n",
      "AlogP 950\n",
      "PSA 1855\n",
      "HBA 22\n",
      "HBD 17\n",
      "#RO5 Violations 6\n",
      "#Rotatable Bonds 33\n",
      "Passes Ro3 3\n",
      "QED Weighted 93\n",
      "CX ApKa 1006\n",
      "CX BpKa 865\n",
      "CX LogP 1043\n",
      "CX LogD 1125\n",
      "Aromatic Rings 9\n",
      "Structure Type 2\n",
      "Inorganic Flag 3\n",
      "Heavy Atoms 68\n",
      "HBA Lipinski 24\n",
      "HBD Lipinski 20\n",
      "#RO5 Violations (Lipinski) 6\n",
      "Molecular Weight (Monoisotopic) 3233\n",
      "Molecular Species 5\n",
      "Molecular Formula 3724\n",
      "Smiles 4133\n"
     ]
    }
   ],
   "source": [
    "for i in file.columns:\n",
    "    print(i,len(file[i].unique()))"
   ]
  },
  {
   "cell_type": "code",
   "execution_count": 7,
   "metadata": {},
   "outputs": [
    {
     "data": {
      "text/plain": [
       "ChEMBL ID                           object\n",
       "Name                                object\n",
       "Synonyms                            object\n",
       "Type                                object\n",
       "Max Phase                            int64\n",
       "Molecular Weight                   float64\n",
       "Targets                              int64\n",
       "Bioactivities                        int64\n",
       "AlogP                               object\n",
       "PSA                                 object\n",
       "HBA                                 object\n",
       "HBD                                 object\n",
       "#RO5 Violations                     object\n",
       "#Rotatable Bonds                    object\n",
       "Passes Ro3                          object\n",
       "QED Weighted                        object\n",
       "CX ApKa                             object\n",
       "CX BpKa                             object\n",
       "CX LogP                             object\n",
       "CX LogD                             object\n",
       "Aromatic Rings                      object\n",
       "Structure Type                      object\n",
       "Inorganic Flag                       int64\n",
       "Heavy Atoms                         object\n",
       "HBA Lipinski                        object\n",
       "HBD Lipinski                        object\n",
       "#RO5 Violations (Lipinski)          object\n",
       "Molecular Weight (Monoisotopic)    float64\n",
       "Molecular Species                   object\n",
       "Molecular Formula                   object\n",
       "Smiles                              object\n",
       "dtype: object"
      ]
     },
     "execution_count": 7,
     "metadata": {},
     "output_type": "execute_result"
    }
   ],
   "source": [
    "file.dtypes"
   ]
  },
  {
   "cell_type": "code",
   "execution_count": 24,
   "metadata": {},
   "outputs": [
    {
     "data": {
      "text/plain": [
       "31"
      ]
     },
     "execution_count": 24,
     "metadata": {},
     "output_type": "execute_result"
    }
   ],
   "source": [
    "len(file.columns)"
   ]
  },
  {
   "cell_type": "code",
   "execution_count": 26,
   "metadata": {},
   "outputs": [
    {
     "data": {
      "text/plain": [
       "Index(['Type', 'Max Phase', 'Molecular Weight', 'Targets', 'Bioactivities',\n",
       "       'AlogP', 'PSA', 'HBA', 'HBD', '#RO5 Violations', '#Rotatable Bonds',\n",
       "       'Passes Ro3', 'QED Weighted', 'CX ApKa', 'CX BpKa', 'CX LogP',\n",
       "       'CX LogD', 'Aromatic Rings', 'Structure Type', 'Inorganic Flag',\n",
       "       'Heavy Atoms', 'HBA Lipinski', 'HBD Lipinski',\n",
       "       '#RO5 Violations (Lipinski)', 'Molecular Weight (Monoisotopic)'],\n",
       "      dtype='object')"
      ]
     },
     "execution_count": 26,
     "metadata": {},
     "output_type": "execute_result"
    }
   ],
   "source": [
    "for i in file.columns[3:28]"
   ]
  },
  {
   "cell_type": "code",
   "execution_count": 19,
   "metadata": {},
   "outputs": [
    {
     "data": {
      "text/plain": [
       "array([4, 0, 0, ..., 0, 4, 0], dtype=int64)"
      ]
     },
     "execution_count": 19,
     "metadata": {},
     "output_type": "execute_result"
    }
   ],
   "source": [
    "np.array(file[\"Max Phase\"])"
   ]
  },
  {
   "cell_type": "code",
   "execution_count": 24,
   "metadata": {},
   "outputs": [],
   "source": [
    "x=file[[\"Max Phase\",\"Molecular Weight\",\"Targets\",\"Inorganic Flag\",\"Molecular Weight (Monoisotopic)\"]]\n",
    "y=file[[\"Bioactivities\"]]"
   ]
  },
  {
   "cell_type": "code",
   "execution_count": 27,
   "metadata": {},
   "outputs": [],
   "source": [
    "x1=file[[\"Type\",\"AlogP\",\n",
    "\"PSA\",\n",
    "\"HBA\", \n",
    "\"HBD\",\n",
    "\"#RO5 Violations\", \n",
    "\"#Rotatable Bonds\",\n",
    "\"Passes Ro3\",\n",
    "\"QED Weighted\", \n",
    "\"CX ApKa\",\n",
    "\"CX BpKa\",\n",
    "\"CX LogP\", \n",
    "\"CX LogD\",\n",
    "\"Aromatic Rings\", \n",
    "\"Structure Type\", \n",
    "\"Molecular Formula\"]]\n",
    "from sklearn.preprocessing import OneHotEncoder,MinMaxScaler\n",
    "x1=OneHotEncoder().fit_transform(x)"
   ]
  },
  {
   "cell_type": "code",
   "execution_count": 30,
   "metadata": {},
   "outputs": [
    {
     "data": {
      "text/plain": [
       "<1x7062 sparse matrix of type '<class 'numpy.float64'>'\n",
       "\twith 5 stored elements in Compressed Sparse Row format>"
      ]
     },
     "execution_count": 30,
     "metadata": {},
     "output_type": "execute_result"
    }
   ],
   "source": [
    "x1[0]"
   ]
  },
  {
   "cell_type": "code",
   "execution_count": 29,
   "metadata": {},
   "outputs": [
    {
     "ename": "ValueError",
     "evalue": "operands could not be broadcast together with remapped shapes [original->remapped]: (4133,5) and requested shape (4133,7062)",
     "output_type": "error",
     "traceback": [
      "\u001b[1;31m---------------------------------------------------------------------------\u001b[0m",
      "\u001b[1;31mValueError\u001b[0m                                Traceback (most recent call last)",
      "\u001b[1;32m<ipython-input-29-af12ab6f1e47>\u001b[0m in \u001b[0;36m<module>\u001b[1;34m\u001b[0m\n\u001b[0;32m      1\u001b[0m \u001b[0mx\u001b[0m\u001b[1;33m=\u001b[0m\u001b[0mnp\u001b[0m\u001b[1;33m.\u001b[0m\u001b[0marray\u001b[0m\u001b[1;33m(\u001b[0m\u001b[0mx\u001b[0m\u001b[1;33m)\u001b[0m\u001b[1;33m\u001b[0m\u001b[1;33m\u001b[0m\u001b[0m\n\u001b[1;32m----> 2\u001b[1;33m \u001b[0mx\u001b[0m\u001b[1;33m=\u001b[0m\u001b[0mx\u001b[0m\u001b[1;33m+\u001b[0m\u001b[0mx1\u001b[0m\u001b[1;33m\u001b[0m\u001b[1;33m\u001b[0m\u001b[0m\n\u001b[0m",
      "\u001b[1;32mC:\\ProgramData\\Anaconda3\\lib\\site-packages\\scipy\\sparse\\base.py\u001b[0m in \u001b[0;36m__radd__\u001b[1;34m(self, other)\u001b[0m\n\u001b[0;32m    425\u001b[0m \u001b[1;33m\u001b[0m\u001b[0m\n\u001b[0;32m    426\u001b[0m     \u001b[1;32mdef\u001b[0m \u001b[0m__radd__\u001b[0m\u001b[1;33m(\u001b[0m\u001b[0mself\u001b[0m\u001b[1;33m,\u001b[0m\u001b[0mother\u001b[0m\u001b[1;33m)\u001b[0m\u001b[1;33m:\u001b[0m  \u001b[1;31m# other + self\u001b[0m\u001b[1;33m\u001b[0m\u001b[1;33m\u001b[0m\u001b[0m\n\u001b[1;32m--> 427\u001b[1;33m         \u001b[1;32mreturn\u001b[0m \u001b[0mself\u001b[0m\u001b[1;33m.\u001b[0m\u001b[0m__add__\u001b[0m\u001b[1;33m(\u001b[0m\u001b[0mother\u001b[0m\u001b[1;33m)\u001b[0m\u001b[1;33m\u001b[0m\u001b[1;33m\u001b[0m\u001b[0m\n\u001b[0m\u001b[0;32m    428\u001b[0m \u001b[1;33m\u001b[0m\u001b[0m\n\u001b[0;32m    429\u001b[0m     \u001b[1;32mdef\u001b[0m \u001b[0m__sub__\u001b[0m\u001b[1;33m(\u001b[0m\u001b[0mself\u001b[0m\u001b[1;33m,\u001b[0m \u001b[0mother\u001b[0m\u001b[1;33m)\u001b[0m\u001b[1;33m:\u001b[0m  \u001b[1;31m# self - other\u001b[0m\u001b[1;33m\u001b[0m\u001b[1;33m\u001b[0m\u001b[0m\n",
      "\u001b[1;32mC:\\ProgramData\\Anaconda3\\lib\\site-packages\\scipy\\sparse\\base.py\u001b[0m in \u001b[0;36m__add__\u001b[1;34m(self, other)\u001b[0m\n\u001b[0;32m    419\u001b[0m             \u001b[1;32mreturn\u001b[0m \u001b[0mself\u001b[0m\u001b[1;33m.\u001b[0m\u001b[0m_add_sparse\u001b[0m\u001b[1;33m(\u001b[0m\u001b[0mother\u001b[0m\u001b[1;33m)\u001b[0m\u001b[1;33m\u001b[0m\u001b[1;33m\u001b[0m\u001b[0m\n\u001b[0;32m    420\u001b[0m         \u001b[1;32melif\u001b[0m \u001b[0misdense\u001b[0m\u001b[1;33m(\u001b[0m\u001b[0mother\u001b[0m\u001b[1;33m)\u001b[0m\u001b[1;33m:\u001b[0m\u001b[1;33m\u001b[0m\u001b[1;33m\u001b[0m\u001b[0m\n\u001b[1;32m--> 421\u001b[1;33m             \u001b[0mother\u001b[0m \u001b[1;33m=\u001b[0m \u001b[0mbroadcast_to\u001b[0m\u001b[1;33m(\u001b[0m\u001b[0mother\u001b[0m\u001b[1;33m,\u001b[0m \u001b[0mself\u001b[0m\u001b[1;33m.\u001b[0m\u001b[0mshape\u001b[0m\u001b[1;33m)\u001b[0m\u001b[1;33m\u001b[0m\u001b[1;33m\u001b[0m\u001b[0m\n\u001b[0m\u001b[0;32m    422\u001b[0m             \u001b[1;32mreturn\u001b[0m \u001b[0mself\u001b[0m\u001b[1;33m.\u001b[0m\u001b[0m_add_dense\u001b[0m\u001b[1;33m(\u001b[0m\u001b[0mother\u001b[0m\u001b[1;33m)\u001b[0m\u001b[1;33m\u001b[0m\u001b[1;33m\u001b[0m\u001b[0m\n\u001b[0;32m    423\u001b[0m         \u001b[1;32melse\u001b[0m\u001b[1;33m:\u001b[0m\u001b[1;33m\u001b[0m\u001b[1;33m\u001b[0m\u001b[0m\n",
      "\u001b[1;32m<__array_function__ internals>\u001b[0m in \u001b[0;36mbroadcast_to\u001b[1;34m(*args, **kwargs)\u001b[0m\n",
      "\u001b[1;32mC:\\ProgramData\\Anaconda3\\lib\\site-packages\\numpy\\lib\\stride_tricks.py\u001b[0m in \u001b[0;36mbroadcast_to\u001b[1;34m(array, shape, subok)\u001b[0m\n\u001b[0;32m    180\u001b[0m            [1, 2, 3]])\n\u001b[0;32m    181\u001b[0m     \"\"\"\n\u001b[1;32m--> 182\u001b[1;33m     \u001b[1;32mreturn\u001b[0m \u001b[0m_broadcast_to\u001b[0m\u001b[1;33m(\u001b[0m\u001b[0marray\u001b[0m\u001b[1;33m,\u001b[0m \u001b[0mshape\u001b[0m\u001b[1;33m,\u001b[0m \u001b[0msubok\u001b[0m\u001b[1;33m=\u001b[0m\u001b[0msubok\u001b[0m\u001b[1;33m,\u001b[0m \u001b[0mreadonly\u001b[0m\u001b[1;33m=\u001b[0m\u001b[1;32mTrue\u001b[0m\u001b[1;33m)\u001b[0m\u001b[1;33m\u001b[0m\u001b[1;33m\u001b[0m\u001b[0m\n\u001b[0m\u001b[0;32m    183\u001b[0m \u001b[1;33m\u001b[0m\u001b[0m\n\u001b[0;32m    184\u001b[0m \u001b[1;33m\u001b[0m\u001b[0m\n",
      "\u001b[1;32mC:\\ProgramData\\Anaconda3\\lib\\site-packages\\numpy\\lib\\stride_tricks.py\u001b[0m in \u001b[0;36m_broadcast_to\u001b[1;34m(array, shape, subok, readonly)\u001b[0m\n\u001b[0;32m    125\u001b[0m     it = np.nditer(\n\u001b[0;32m    126\u001b[0m         \u001b[1;33m(\u001b[0m\u001b[0marray\u001b[0m\u001b[1;33m,\u001b[0m\u001b[1;33m)\u001b[0m\u001b[1;33m,\u001b[0m \u001b[0mflags\u001b[0m\u001b[1;33m=\u001b[0m\u001b[1;33m[\u001b[0m\u001b[1;34m'multi_index'\u001b[0m\u001b[1;33m,\u001b[0m \u001b[1;34m'refs_ok'\u001b[0m\u001b[1;33m,\u001b[0m \u001b[1;34m'zerosize_ok'\u001b[0m\u001b[1;33m]\u001b[0m \u001b[1;33m+\u001b[0m \u001b[0mextras\u001b[0m\u001b[1;33m,\u001b[0m\u001b[1;33m\u001b[0m\u001b[1;33m\u001b[0m\u001b[0m\n\u001b[1;32m--> 127\u001b[1;33m         op_flags=['readonly'], itershape=shape, order='C')\n\u001b[0m\u001b[0;32m    128\u001b[0m     \u001b[1;32mwith\u001b[0m \u001b[0mit\u001b[0m\u001b[1;33m:\u001b[0m\u001b[1;33m\u001b[0m\u001b[1;33m\u001b[0m\u001b[0m\n\u001b[0;32m    129\u001b[0m         \u001b[1;31m# never really has writebackifcopy semantics\u001b[0m\u001b[1;33m\u001b[0m\u001b[1;33m\u001b[0m\u001b[1;33m\u001b[0m\u001b[0m\n",
      "\u001b[1;31mValueError\u001b[0m: operands could not be broadcast together with remapped shapes [original->remapped]: (4133,5) and requested shape (4133,7062)"
     ]
    }
   ],
   "source": [
    "x=np.array(x)\n",
    "x=x+x1"
   ]
  },
  {
   "cell_type": "code",
   "execution_count": 26,
   "metadata": {},
   "outputs": [
    {
     "ename": "TypeError",
     "evalue": "cannot concatenate object of type '<class 'scipy.sparse.csr.csr_matrix'>'; only Series and DataFrame objs are valid",
     "output_type": "error",
     "traceback": [
      "\u001b[1;31m---------------------------------------------------------------------------\u001b[0m",
      "\u001b[1;31mTypeError\u001b[0m                                 Traceback (most recent call last)",
      "\u001b[1;32m<ipython-input-26-9976740d35c4>\u001b[0m in \u001b[0;36m<module>\u001b[1;34m\u001b[0m\n\u001b[1;32m----> 1\u001b[1;33m \u001b[0mx\u001b[0m\u001b[1;33m=\u001b[0m\u001b[0mpd\u001b[0m\u001b[1;33m.\u001b[0m\u001b[0mconcat\u001b[0m\u001b[1;33m(\u001b[0m\u001b[1;33m[\u001b[0m\u001b[0mx\u001b[0m\u001b[1;33m,\u001b[0m\u001b[0mx1\u001b[0m\u001b[1;33m]\u001b[0m\u001b[1;33m,\u001b[0m\u001b[0maxis\u001b[0m\u001b[1;33m=\u001b[0m\u001b[1;36m1\u001b[0m\u001b[1;33m)\u001b[0m\u001b[1;33m\u001b[0m\u001b[1;33m\u001b[0m\u001b[0m\n\u001b[0m",
      "\u001b[1;32mC:\\ProgramData\\Anaconda3\\lib\\site-packages\\pandas\\core\\reshape\\concat.py\u001b[0m in \u001b[0;36mconcat\u001b[1;34m(objs, axis, join, ignore_index, keys, levels, names, verify_integrity, sort, copy)\u001b[0m\n\u001b[0;32m    279\u001b[0m         \u001b[0mverify_integrity\u001b[0m\u001b[1;33m=\u001b[0m\u001b[0mverify_integrity\u001b[0m\u001b[1;33m,\u001b[0m\u001b[1;33m\u001b[0m\u001b[1;33m\u001b[0m\u001b[0m\n\u001b[0;32m    280\u001b[0m         \u001b[0mcopy\u001b[0m\u001b[1;33m=\u001b[0m\u001b[0mcopy\u001b[0m\u001b[1;33m,\u001b[0m\u001b[1;33m\u001b[0m\u001b[1;33m\u001b[0m\u001b[0m\n\u001b[1;32m--> 281\u001b[1;33m         \u001b[0msort\u001b[0m\u001b[1;33m=\u001b[0m\u001b[0msort\u001b[0m\u001b[1;33m,\u001b[0m\u001b[1;33m\u001b[0m\u001b[1;33m\u001b[0m\u001b[0m\n\u001b[0m\u001b[0;32m    282\u001b[0m     )\n\u001b[0;32m    283\u001b[0m \u001b[1;33m\u001b[0m\u001b[0m\n",
      "\u001b[1;32mC:\\ProgramData\\Anaconda3\\lib\\site-packages\\pandas\\core\\reshape\\concat.py\u001b[0m in \u001b[0;36m__init__\u001b[1;34m(self, objs, axis, join, keys, levels, names, ignore_index, verify_integrity, copy, sort)\u001b[0m\n\u001b[0;32m    355\u001b[0m                     \u001b[1;34m\"only Series and DataFrame objs are valid\"\u001b[0m\u001b[1;33m.\u001b[0m\u001b[0mformat\u001b[0m\u001b[1;33m(\u001b[0m\u001b[0mtyp\u001b[0m\u001b[1;33m=\u001b[0m\u001b[0mtype\u001b[0m\u001b[1;33m(\u001b[0m\u001b[0mobj\u001b[0m\u001b[1;33m)\u001b[0m\u001b[1;33m)\u001b[0m\u001b[1;33m\u001b[0m\u001b[1;33m\u001b[0m\u001b[0m\n\u001b[0;32m    356\u001b[0m                 )\n\u001b[1;32m--> 357\u001b[1;33m                 \u001b[1;32mraise\u001b[0m \u001b[0mTypeError\u001b[0m\u001b[1;33m(\u001b[0m\u001b[0mmsg\u001b[0m\u001b[1;33m)\u001b[0m\u001b[1;33m\u001b[0m\u001b[1;33m\u001b[0m\u001b[0m\n\u001b[0m\u001b[0;32m    358\u001b[0m \u001b[1;33m\u001b[0m\u001b[0m\n\u001b[0;32m    359\u001b[0m             \u001b[1;31m# consolidate\u001b[0m\u001b[1;33m\u001b[0m\u001b[1;33m\u001b[0m\u001b[1;33m\u001b[0m\u001b[0m\n",
      "\u001b[1;31mTypeError\u001b[0m: cannot concatenate object of type '<class 'scipy.sparse.csr.csr_matrix'>'; only Series and DataFrame objs are valid"
     ]
    }
   ],
   "source": [
    "x=pd.concat([x,x1],axis=1)"
   ]
  },
  {
   "cell_type": "code",
   "execution_count": 16,
   "metadata": {},
   "outputs": [],
   "source": [
    "x=np.array(x)\n",
    "y=np.array(y)"
   ]
  },
  {
   "cell_type": "code",
   "execution_count": 31,
   "metadata": {},
   "outputs": [],
   "source": [
    "from sklearn.model_selection import train_test_split\n",
    "x_train,x_test,y_train,y_test=train_test_split(x1,y)"
   ]
  },
  {
   "cell_type": "code",
   "execution_count": 32,
   "metadata": {},
   "outputs": [],
   "source": [
    "from sklearn.linear_model import LinearRegression \n",
    "reg=LinearRegression().fit(x_train,y_train)"
   ]
  },
  {
   "cell_type": "code",
   "execution_count": 33,
   "metadata": {},
   "outputs": [
    {
     "name": "stdout",
     "output_type": "stream",
     "text": [
      "-0.007181877355797228\n",
      "Bioactivities    388817.336112\n",
      "dtype: float64\n"
     ]
    }
   ],
   "source": [
    "from sklearn.metrics import r2_score\n",
    "yhat=reg.predict(x_test)\n",
    "print(r2_score(yhat,y_test))\n",
    "print(np.mean(np.absolute(yhat-y_test)**2))"
   ]
  },
  {
   "cell_type": "code",
   "execution_count": 12,
   "metadata": {},
   "outputs": [],
   "source": [
    "x=file.drop(['ChEMBL ID',\"Name\",\"Synonyms\",\"Molecular Weight\",\"Targets\",\"Molecular Formula\",\"Smiles\"],axis=1)"
   ]
  },
  {
   "cell_type": "code",
   "execution_count": 13,
   "metadata": {},
   "outputs": [
    {
     "data": {
      "text/html": [
       "<div>\n",
       "<style scoped>\n",
       "    .dataframe tbody tr th:only-of-type {\n",
       "        vertical-align: middle;\n",
       "    }\n",
       "\n",
       "    .dataframe tbody tr th {\n",
       "        vertical-align: top;\n",
       "    }\n",
       "\n",
       "    .dataframe thead th {\n",
       "        text-align: right;\n",
       "    }\n",
       "</style>\n",
       "<table border=\"1\" class=\"dataframe\">\n",
       "  <thead>\n",
       "    <tr style=\"text-align: right;\">\n",
       "      <th></th>\n",
       "      <th>Type</th>\n",
       "      <th>Max Phase</th>\n",
       "      <th>Bioactivities</th>\n",
       "      <th>AlogP</th>\n",
       "      <th>PSA</th>\n",
       "      <th>HBA</th>\n",
       "      <th>HBD</th>\n",
       "      <th>#RO5 Violations</th>\n",
       "      <th>#Rotatable Bonds</th>\n",
       "      <th>Passes Ro3</th>\n",
       "      <th>...</th>\n",
       "      <th>CX LogD</th>\n",
       "      <th>Aromatic Rings</th>\n",
       "      <th>Structure Type</th>\n",
       "      <th>Inorganic Flag</th>\n",
       "      <th>Heavy Atoms</th>\n",
       "      <th>HBA Lipinski</th>\n",
       "      <th>HBD Lipinski</th>\n",
       "      <th>#RO5 Violations (Lipinski)</th>\n",
       "      <th>Molecular Weight (Monoisotopic)</th>\n",
       "      <th>Molecular Species</th>\n",
       "    </tr>\n",
       "  </thead>\n",
       "  <tbody>\n",
       "    <tr>\n",
       "      <th>16</th>\n",
       "      <td>Small molecule</td>\n",
       "      <td>4</td>\n",
       "      <td>34</td>\n",
       "      <td>2.14</td>\n",
       "      <td>95.58</td>\n",
       "      <td>4</td>\n",
       "      <td>4</td>\n",
       "      <td>0</td>\n",
       "      <td>8</td>\n",
       "      <td>N</td>\n",
       "      <td>...</td>\n",
       "      <td>1.26</td>\n",
       "      <td>2</td>\n",
       "      <td>MOL</td>\n",
       "      <td>0</td>\n",
       "      <td>24</td>\n",
       "      <td>5</td>\n",
       "      <td>5</td>\n",
       "      <td>0</td>\n",
       "      <td>328.1787</td>\n",
       "      <td>BASE</td>\n",
       "    </tr>\n",
       "    <tr>\n",
       "      <th>17</th>\n",
       "      <td>Small molecule</td>\n",
       "      <td>0</td>\n",
       "      <td>84</td>\n",
       "      <td>3.85</td>\n",
       "      <td>76.13</td>\n",
       "      <td>5</td>\n",
       "      <td>1</td>\n",
       "      <td>0</td>\n",
       "      <td>6</td>\n",
       "      <td>N</td>\n",
       "      <td>...</td>\n",
       "      <td>3.26</td>\n",
       "      <td>2</td>\n",
       "      <td>MOL</td>\n",
       "      <td>-1</td>\n",
       "      <td>25</td>\n",
       "      <td>5</td>\n",
       "      <td>1</td>\n",
       "      <td>0</td>\n",
       "      <td>378.1072</td>\n",
       "      <td>NEUTRAL</td>\n",
       "    </tr>\n",
       "    <tr>\n",
       "      <th>18</th>\n",
       "      <td>Small molecule</td>\n",
       "      <td>0</td>\n",
       "      <td>33</td>\n",
       "      <td>2.64</td>\n",
       "      <td>93.07</td>\n",
       "      <td>9</td>\n",
       "      <td>1</td>\n",
       "      <td>0</td>\n",
       "      <td>5</td>\n",
       "      <td>N</td>\n",
       "      <td>...</td>\n",
       "      <td>3.53</td>\n",
       "      <td>3</td>\n",
       "      <td>MOL</td>\n",
       "      <td>-1</td>\n",
       "      <td>34</td>\n",
       "      <td>9</td>\n",
       "      <td>1</td>\n",
       "      <td>0</td>\n",
       "      <td>465.2376</td>\n",
       "      <td>NEUTRAL</td>\n",
       "    </tr>\n",
       "    <tr>\n",
       "      <th>32</th>\n",
       "      <td>Small molecule</td>\n",
       "      <td>2</td>\n",
       "      <td>7</td>\n",
       "      <td>3.73</td>\n",
       "      <td>77.49</td>\n",
       "      <td>4</td>\n",
       "      <td>3</td>\n",
       "      <td>0</td>\n",
       "      <td>6</td>\n",
       "      <td>N</td>\n",
       "      <td>...</td>\n",
       "      <td>2.03</td>\n",
       "      <td>3</td>\n",
       "      <td>MOL</td>\n",
       "      <td>0</td>\n",
       "      <td>31</td>\n",
       "      <td>6</td>\n",
       "      <td>3</td>\n",
       "      <td>0</td>\n",
       "      <td>418.2369</td>\n",
       "      <td>NEUTRAL</td>\n",
       "    </tr>\n",
       "    <tr>\n",
       "      <th>35</th>\n",
       "      <td>Small molecule</td>\n",
       "      <td>0</td>\n",
       "      <td>12</td>\n",
       "      <td>3.02</td>\n",
       "      <td>75.63</td>\n",
       "      <td>3</td>\n",
       "      <td>2</td>\n",
       "      <td>0</td>\n",
       "      <td>6</td>\n",
       "      <td>N</td>\n",
       "      <td>...</td>\n",
       "      <td>0.05</td>\n",
       "      <td>2</td>\n",
       "      <td>MOL</td>\n",
       "      <td>0</td>\n",
       "      <td>23</td>\n",
       "      <td>5</td>\n",
       "      <td>2</td>\n",
       "      <td>0</td>\n",
       "      <td>333.0768</td>\n",
       "      <td>ACID</td>\n",
       "    </tr>\n",
       "    <tr>\n",
       "      <th>...</th>\n",
       "      <td>...</td>\n",
       "      <td>...</td>\n",
       "      <td>...</td>\n",
       "      <td>...</td>\n",
       "      <td>...</td>\n",
       "      <td>...</td>\n",
       "      <td>...</td>\n",
       "      <td>...</td>\n",
       "      <td>...</td>\n",
       "      <td>...</td>\n",
       "      <td>...</td>\n",
       "      <td>...</td>\n",
       "      <td>...</td>\n",
       "      <td>...</td>\n",
       "      <td>...</td>\n",
       "      <td>...</td>\n",
       "      <td>...</td>\n",
       "      <td>...</td>\n",
       "      <td>...</td>\n",
       "      <td>...</td>\n",
       "      <td>...</td>\n",
       "    </tr>\n",
       "    <tr>\n",
       "      <th>6888</th>\n",
       "      <td>Small molecule</td>\n",
       "      <td>4</td>\n",
       "      <td>68</td>\n",
       "      <td>3.92</td>\n",
       "      <td>29.54</td>\n",
       "      <td>3</td>\n",
       "      <td>0</td>\n",
       "      <td>0</td>\n",
       "      <td>8</td>\n",
       "      <td>N</td>\n",
       "      <td>...</td>\n",
       "      <td>2.67</td>\n",
       "      <td>1</td>\n",
       "      <td>MOL</td>\n",
       "      <td>0</td>\n",
       "      <td>21</td>\n",
       "      <td>3</td>\n",
       "      <td>0</td>\n",
       "      <td>0</td>\n",
       "      <td>289.2042</td>\n",
       "      <td>NEUTRAL</td>\n",
       "    </tr>\n",
       "    <tr>\n",
       "      <th>6889</th>\n",
       "      <td>Small molecule</td>\n",
       "      <td>0</td>\n",
       "      <td>13</td>\n",
       "      <td>0.32</td>\n",
       "      <td>71.82</td>\n",
       "      <td>3</td>\n",
       "      <td>1</td>\n",
       "      <td>0</td>\n",
       "      <td>1</td>\n",
       "      <td>N</td>\n",
       "      <td>...</td>\n",
       "      <td>0.32</td>\n",
       "      <td>1</td>\n",
       "      <td>MOL</td>\n",
       "      <td>-1</td>\n",
       "      <td>8</td>\n",
       "      <td>5</td>\n",
       "      <td>1</td>\n",
       "      <td>0</td>\n",
       "      <td>113.0225</td>\n",
       "      <td>NEUTRAL</td>\n",
       "    </tr>\n",
       "    <tr>\n",
       "      <th>6891</th>\n",
       "      <td>Small molecule</td>\n",
       "      <td>0</td>\n",
       "      <td>3</td>\n",
       "      <td>-3.49</td>\n",
       "      <td>138.45</td>\n",
       "      <td>6</td>\n",
       "      <td>6</td>\n",
       "      <td>1</td>\n",
       "      <td>5</td>\n",
       "      <td>N</td>\n",
       "      <td>...</td>\n",
       "      <td>-6.82</td>\n",
       "      <td>0</td>\n",
       "      <td>MOL</td>\n",
       "      <td>-1</td>\n",
       "      <td>13</td>\n",
       "      <td>7</td>\n",
       "      <td>6</td>\n",
       "      <td>1</td>\n",
       "      <td>196.0583</td>\n",
       "      <td>ACID</td>\n",
       "    </tr>\n",
       "    <tr>\n",
       "      <th>6892</th>\n",
       "      <td>Small molecule</td>\n",
       "      <td>4</td>\n",
       "      <td>128</td>\n",
       "      <td>0.08</td>\n",
       "      <td>92.42</td>\n",
       "      <td>3</td>\n",
       "      <td>3</td>\n",
       "      <td>0</td>\n",
       "      <td>3</td>\n",
       "      <td>N</td>\n",
       "      <td>...</td>\n",
       "      <td>-3.60</td>\n",
       "      <td>1</td>\n",
       "      <td>MOL</td>\n",
       "      <td>0</td>\n",
       "      <td>14</td>\n",
       "      <td>5</td>\n",
       "      <td>4</td>\n",
       "      <td>0</td>\n",
       "      <td>194.0691</td>\n",
       "      <td>ACID</td>\n",
       "    </tr>\n",
       "    <tr>\n",
       "      <th>6895</th>\n",
       "      <td>Small molecule</td>\n",
       "      <td>0</td>\n",
       "      <td>172</td>\n",
       "      <td>-2.63</td>\n",
       "      <td>103.59</td>\n",
       "      <td>9</td>\n",
       "      <td>0</td>\n",
       "      <td>0</td>\n",
       "      <td>6</td>\n",
       "      <td>N</td>\n",
       "      <td>...</td>\n",
       "      <td>-0.84</td>\n",
       "      <td>1</td>\n",
       "      <td>MOL</td>\n",
       "      <td>0</td>\n",
       "      <td>21</td>\n",
       "      <td>9</td>\n",
       "      <td>0</td>\n",
       "      <td>0</td>\n",
       "      <td>297.0961</td>\n",
       "      <td>NEUTRAL</td>\n",
       "    </tr>\n",
       "  </tbody>\n",
       "</table>\n",
       "<p>4133 rows × 24 columns</p>\n",
       "</div>"
      ],
      "text/plain": [
       "                Type  Max Phase  Bioactivities  AlogP     PSA HBA HBD  \\\n",
       "16    Small molecule          4             34   2.14   95.58   4   4   \n",
       "17    Small molecule          0             84   3.85   76.13   5   1   \n",
       "18    Small molecule          0             33   2.64   93.07   9   1   \n",
       "32    Small molecule          2              7   3.73   77.49   4   3   \n",
       "35    Small molecule          0             12   3.02   75.63   3   2   \n",
       "...              ...        ...            ...    ...     ...  ..  ..   \n",
       "6888  Small molecule          4             68   3.92   29.54   3   0   \n",
       "6889  Small molecule          0             13   0.32   71.82   3   1   \n",
       "6891  Small molecule          0              3  -3.49  138.45   6   6   \n",
       "6892  Small molecule          4            128   0.08   92.42   3   3   \n",
       "6895  Small molecule          0            172  -2.63  103.59   9   0   \n",
       "\n",
       "     #RO5 Violations #Rotatable Bonds Passes Ro3  ... CX LogD Aromatic Rings  \\\n",
       "16                 0                8          N  ...    1.26              2   \n",
       "17                 0                6          N  ...    3.26              2   \n",
       "18                 0                5          N  ...    3.53              3   \n",
       "32                 0                6          N  ...    2.03              3   \n",
       "35                 0                6          N  ...    0.05              2   \n",
       "...              ...              ...        ...  ...     ...            ...   \n",
       "6888               0                8          N  ...    2.67              1   \n",
       "6889               0                1          N  ...    0.32              1   \n",
       "6891               1                5          N  ...   -6.82              0   \n",
       "6892               0                3          N  ...   -3.60              1   \n",
       "6895               0                6          N  ...   -0.84              1   \n",
       "\n",
       "     Structure Type Inorganic Flag Heavy Atoms HBA Lipinski HBD Lipinski  \\\n",
       "16              MOL              0          24            5            5   \n",
       "17              MOL             -1          25            5            1   \n",
       "18              MOL             -1          34            9            1   \n",
       "32              MOL              0          31            6            3   \n",
       "35              MOL              0          23            5            2   \n",
       "...             ...            ...         ...          ...          ...   \n",
       "6888            MOL              0          21            3            0   \n",
       "6889            MOL             -1           8            5            1   \n",
       "6891            MOL             -1          13            7            6   \n",
       "6892            MOL              0          14            5            4   \n",
       "6895            MOL              0          21            9            0   \n",
       "\n",
       "      #RO5 Violations (Lipinski) Molecular Weight (Monoisotopic)  \\\n",
       "16                             0                        328.1787   \n",
       "17                             0                        378.1072   \n",
       "18                             0                        465.2376   \n",
       "32                             0                        418.2369   \n",
       "35                             0                        333.0768   \n",
       "...                          ...                             ...   \n",
       "6888                           0                        289.2042   \n",
       "6889                           0                        113.0225   \n",
       "6891                           1                        196.0583   \n",
       "6892                           0                        194.0691   \n",
       "6895                           0                        297.0961   \n",
       "\n",
       "     Molecular Species  \n",
       "16                BASE  \n",
       "17             NEUTRAL  \n",
       "18             NEUTRAL  \n",
       "32             NEUTRAL  \n",
       "35                ACID  \n",
       "...                ...  \n",
       "6888           NEUTRAL  \n",
       "6889           NEUTRAL  \n",
       "6891              ACID  \n",
       "6892              ACID  \n",
       "6895           NEUTRAL  \n",
       "\n",
       "[4133 rows x 24 columns]"
      ]
     },
     "execution_count": 13,
     "metadata": {},
     "output_type": "execute_result"
    }
   ],
   "source": [
    "x"
   ]
  },
  {
   "cell_type": "code",
   "execution_count": 21,
   "metadata": {},
   "outputs": [],
   "source": [
    "from sklearn.preprocessing import OneHotEncoder,MinMaxScaler\n",
    "x1=OneHotEncoder().fit_transform(x).toarray()\n",
    "x_=MinMaxScaler().fit_transform(x1)"
   ]
  },
  {
   "cell_type": "code",
   "execution_count": 40,
   "metadata": {},
   "outputs": [],
   "source": [
    "y_=[]\n",
    "for i in y:\n",
    "    y_.append(i[0])"
   ]
  },
  {
   "cell_type": "code",
   "execution_count": 42,
   "metadata": {},
   "outputs": [],
   "source": [
    "x_train,x_test,y_train,y_test=train_test_split(x1,y)"
   ]
  },
  {
   "cell_type": "code",
   "execution_count": 43,
   "metadata": {},
   "outputs": [
    {
     "name": "stderr",
     "output_type": "stream",
     "text": [
      "C:\\ProgramData\\Anaconda3\\lib\\site-packages\\sklearn\\utils\\validation.py:760: DataConversionWarning: A column-vector y was passed when a 1d array was expected. Please change the shape of y to (n_samples, ), for example using ravel().\n",
      "  y = column_or_1d(y, warn=True)\n"
     ]
    },
    {
     "data": {
      "text/plain": [
       "SVC(C=1.0, break_ties=False, cache_size=200, class_weight=None, coef0=0.0,\n",
       "    decision_function_shape='ovr', degree=3, gamma='scale', kernel='rbf',\n",
       "    max_iter=-1, probability=False, random_state=None, shrinking=True,\n",
       "    tol=0.001, verbose=False)"
      ]
     },
     "execution_count": 43,
     "metadata": {},
     "output_type": "execute_result"
    }
   ],
   "source": [
    "from sklearn import svm\n",
    "clf = svm.SVC(kernel='rbf')\n",
    "clf.fit(x_train, y_train) "
   ]
  },
  {
   "cell_type": "code",
   "execution_count": 53,
   "metadata": {},
   "outputs": [
    {
     "data": {
      "text/plain": [
       "639588.6092843327"
      ]
     },
     "execution_count": 53,
     "metadata": {},
     "output_type": "execute_result"
    }
   ],
   "source": [
    "np.mean(np.absolute(y_t-clf.predict(x_test))**2)"
   ]
  },
  {
   "cell_type": "code",
   "execution_count": 54,
   "metadata": {},
   "outputs": [
    {
     "data": {
      "text/plain": [
       "1034"
      ]
     },
     "execution_count": 54,
     "metadata": {},
     "output_type": "execute_result"
    }
   ],
   "source": [
    "len(clf.predict(x_test))"
   ]
  },
  {
   "cell_type": "code",
   "execution_count": 55,
   "metadata": {},
   "outputs": [],
   "source": [
    "y_t=[i[0] for i in np.array(y_test)]"
   ]
  },
  {
   "cell_type": "code",
   "execution_count": 56,
   "metadata": {},
   "outputs": [],
   "source": [
    "y_t=np.array(y_t)"
   ]
  },
  {
   "cell_type": "code",
   "execution_count": 57,
   "metadata": {},
   "outputs": [
    {
     "data": {
      "text/plain": [
       "-12501.225929860138"
      ]
     },
     "execution_count": 57,
     "metadata": {},
     "output_type": "execute_result"
    }
   ],
   "source": [
    "from sklearn.metrics import r2_score\n",
    "r2_score(clf.predict(x_test),y_t)"
   ]
  },
  {
   "cell_type": "code",
   "execution_count": null,
   "metadata": {},
   "outputs": [],
   "source": []
  }
 ],
 "metadata": {
  "kernelspec": {
   "display_name": "Python 3",
   "language": "python",
   "name": "python3"
  },
  "language_info": {
   "codemirror_mode": {
    "name": "ipython",
    "version": 3
   },
   "file_extension": ".py",
   "mimetype": "text/x-python",
   "name": "python",
   "nbconvert_exporter": "python",
   "pygments_lexer": "ipython3",
   "version": "3.7.6"
  }
 },
 "nbformat": 4,
 "nbformat_minor": 4
}
