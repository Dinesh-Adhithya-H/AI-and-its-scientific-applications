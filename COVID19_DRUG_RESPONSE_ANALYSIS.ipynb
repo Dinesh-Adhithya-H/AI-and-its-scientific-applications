{
 "cells": [
  {
   "cell_type": "markdown",
   "metadata": {},
   "source": [
    "# Using supervised machine learning models to  predict bioactivity response of drugs to Covid-19 virus"
   ]
  },
  {
   "cell_type": "markdown",
   "metadata": {},
   "source": [
    "## Importing neccesary modules"
   ]
  },
  {
   "cell_type": "code",
   "execution_count": 1,
   "metadata": {},
   "outputs": [],
   "source": [
    "import matplotlib.pyplot as plt\n",
    "import numpy as np\n",
    "import sklearn as sk\n",
    "import pandas as pd\n",
    "import seaborn as sns"
   ]
  },
  {
   "cell_type": "markdown",
   "metadata": {},
   "source": [
    "## Data Exploration "
   ]
  },
  {
   "cell_type": "code",
   "execution_count": 2,
   "metadata": {},
   "outputs": [],
   "source": [
    "url=\"https://raw.githubusercontent.com/Dinesh-Adhithya-H/AI-and-its-scientific-applications/master/file.csv\"\n",
    "file=pd.read_csv(url,delimiter=\";\")"
   ]
  },
  {
   "cell_type": "code",
   "execution_count": 3,
   "metadata": {},
   "outputs": [],
   "source": [
    "file=file.dropna() "
   ]
  },
  {
   "cell_type": "code",
   "execution_count": 4,
   "metadata": {},
   "outputs": [
    {
     "data": {
      "text/html": [
       "<div>\n",
       "<style scoped>\n",
       "    .dataframe tbody tr th:only-of-type {\n",
       "        vertical-align: middle;\n",
       "    }\n",
       "\n",
       "    .dataframe tbody tr th {\n",
       "        vertical-align: top;\n",
       "    }\n",
       "\n",
       "    .dataframe thead th {\n",
       "        text-align: right;\n",
       "    }\n",
       "</style>\n",
       "<table border=\"1\" class=\"dataframe\">\n",
       "  <thead>\n",
       "    <tr style=\"text-align: right;\">\n",
       "      <th></th>\n",
       "      <th>ChEMBL ID</th>\n",
       "      <th>Name</th>\n",
       "      <th>Synonyms</th>\n",
       "      <th>Type</th>\n",
       "      <th>Max Phase</th>\n",
       "      <th>Molecular Weight</th>\n",
       "      <th>Targets</th>\n",
       "      <th>Bioactivities</th>\n",
       "      <th>AlogP</th>\n",
       "      <th>PSA</th>\n",
       "      <th>...</th>\n",
       "      <th>Structure Type</th>\n",
       "      <th>Inorganic Flag</th>\n",
       "      <th>Heavy Atoms</th>\n",
       "      <th>HBA Lipinski</th>\n",
       "      <th>HBD Lipinski</th>\n",
       "      <th>#RO5 Violations (Lipinski)</th>\n",
       "      <th>Molecular Weight (Monoisotopic)</th>\n",
       "      <th>Molecular Species</th>\n",
       "      <th>Molecular Formula</th>\n",
       "      <th>Smiles</th>\n",
       "    </tr>\n",
       "  </thead>\n",
       "  <tbody>\n",
       "    <tr>\n",
       "      <th>16</th>\n",
       "      <td>CHEMBL27193</td>\n",
       "      <td>DILEVALOL</td>\n",
       "      <td>DILEVALOL</td>\n",
       "      <td>Small molecule</td>\n",
       "      <td>4</td>\n",
       "      <td>328.41</td>\n",
       "      <td>10</td>\n",
       "      <td>34</td>\n",
       "      <td>2.14</td>\n",
       "      <td>95.58</td>\n",
       "      <td>...</td>\n",
       "      <td>MOL</td>\n",
       "      <td>0</td>\n",
       "      <td>24</td>\n",
       "      <td>5</td>\n",
       "      <td>5</td>\n",
       "      <td>0</td>\n",
       "      <td>328.1787</td>\n",
       "      <td>BASE</td>\n",
       "      <td>C19H24N2O3</td>\n",
       "      <td>C[C@H](CCc1ccccc1)NC[C@H](O)c1ccc(O)c(C(N)=O)c1</td>\n",
       "    </tr>\n",
       "    <tr>\n",
       "      <th>17</th>\n",
       "      <td>CHEMBL1096435</td>\n",
       "      <td>Ro-281675</td>\n",
       "      <td>Ro-0281675</td>\n",
       "      <td>Small molecule</td>\n",
       "      <td>0</td>\n",
       "      <td>378.52</td>\n",
       "      <td>13</td>\n",
       "      <td>84</td>\n",
       "      <td>3.85</td>\n",
       "      <td>76.13</td>\n",
       "      <td>...</td>\n",
       "      <td>MOL</td>\n",
       "      <td>-1</td>\n",
       "      <td>25</td>\n",
       "      <td>5</td>\n",
       "      <td>1</td>\n",
       "      <td>0</td>\n",
       "      <td>378.1072</td>\n",
       "      <td>NEUTRAL</td>\n",
       "      <td>C18H22N2O3S2</td>\n",
       "      <td>CS(=O)(=O)c1ccc([C@@H](CC2CCCC2)C(=O)Nc2nccs2)cc1</td>\n",
       "    </tr>\n",
       "    <tr>\n",
       "      <th>18</th>\n",
       "      <td>CHEMBL1078983</td>\n",
       "      <td>AZD-2014</td>\n",
       "      <td>AZD-2014</td>\n",
       "      <td>Small molecule</td>\n",
       "      <td>0</td>\n",
       "      <td>465.55</td>\n",
       "      <td>19</td>\n",
       "      <td>33</td>\n",
       "      <td>2.64</td>\n",
       "      <td>93.07</td>\n",
       "      <td>...</td>\n",
       "      <td>MOL</td>\n",
       "      <td>-1</td>\n",
       "      <td>34</td>\n",
       "      <td>9</td>\n",
       "      <td>1</td>\n",
       "      <td>0</td>\n",
       "      <td>465.2376</td>\n",
       "      <td>NEUTRAL</td>\n",
       "      <td>C25H31N5O4</td>\n",
       "      <td>COc1ccc(-c2ccc3c(N4CCOCC4)nc(N4C[C@H](C)O[C@H]...</td>\n",
       "    </tr>\n",
       "    <tr>\n",
       "      <th>32</th>\n",
       "      <td>CHEMBL567303</td>\n",
       "      <td>PALOSURAN</td>\n",
       "      <td>ACT-058362|PALOSURAN</td>\n",
       "      <td>Small molecule</td>\n",
       "      <td>2</td>\n",
       "      <td>418.54</td>\n",
       "      <td>4</td>\n",
       "      <td>7</td>\n",
       "      <td>3.73</td>\n",
       "      <td>77.49</td>\n",
       "      <td>...</td>\n",
       "      <td>MOL</td>\n",
       "      <td>0</td>\n",
       "      <td>31</td>\n",
       "      <td>6</td>\n",
       "      <td>3</td>\n",
       "      <td>0</td>\n",
       "      <td>418.2369</td>\n",
       "      <td>NEUTRAL</td>\n",
       "      <td>C25H30N4O2</td>\n",
       "      <td>Cc1cc(NC(=O)NCCN2CCC(O)(Cc3ccccc3)CC2)c2ccccc2n1</td>\n",
       "    </tr>\n",
       "    <tr>\n",
       "      <th>35</th>\n",
       "      <td>CHEMBL149930</td>\n",
       "      <td>MEGLITINIDE</td>\n",
       "      <td>MEGLITINIDE|Meglitinide</td>\n",
       "      <td>Small molecule</td>\n",
       "      <td>0</td>\n",
       "      <td>333.77</td>\n",
       "      <td>5</td>\n",
       "      <td>12</td>\n",
       "      <td>3.02</td>\n",
       "      <td>75.63</td>\n",
       "      <td>...</td>\n",
       "      <td>MOL</td>\n",
       "      <td>0</td>\n",
       "      <td>23</td>\n",
       "      <td>5</td>\n",
       "      <td>2</td>\n",
       "      <td>0</td>\n",
       "      <td>333.0768</td>\n",
       "      <td>ACID</td>\n",
       "      <td>C17H16ClNO4</td>\n",
       "      <td>COc1ccc(Cl)cc1C(=O)NCCc1ccc(C(=O)O)cc1</td>\n",
       "    </tr>\n",
       "  </tbody>\n",
       "</table>\n",
       "<p>5 rows × 31 columns</p>\n",
       "</div>"
      ],
      "text/plain": [
       "        ChEMBL ID         Name                 Synonyms            Type  \\\n",
       "16    CHEMBL27193    DILEVALOL                DILEVALOL  Small molecule   \n",
       "17  CHEMBL1096435    Ro-281675               Ro-0281675  Small molecule   \n",
       "18  CHEMBL1078983     AZD-2014                 AZD-2014  Small molecule   \n",
       "32   CHEMBL567303    PALOSURAN     ACT-058362|PALOSURAN  Small molecule   \n",
       "35   CHEMBL149930  MEGLITINIDE  MEGLITINIDE|Meglitinide  Small molecule   \n",
       "\n",
       "    Max Phase  Molecular Weight  Targets  Bioactivities AlogP    PSA  ...  \\\n",
       "16          4            328.41       10             34  2.14  95.58  ...   \n",
       "17          0            378.52       13             84  3.85  76.13  ...   \n",
       "18          0            465.55       19             33  2.64  93.07  ...   \n",
       "32          2            418.54        4              7  3.73  77.49  ...   \n",
       "35          0            333.77        5             12  3.02  75.63  ...   \n",
       "\n",
       "   Structure Type Inorganic Flag Heavy Atoms HBA Lipinski HBD Lipinski  \\\n",
       "16            MOL              0          24            5            5   \n",
       "17            MOL             -1          25            5            1   \n",
       "18            MOL             -1          34            9            1   \n",
       "32            MOL              0          31            6            3   \n",
       "35            MOL              0          23            5            2   \n",
       "\n",
       "   #RO5 Violations (Lipinski) Molecular Weight (Monoisotopic)  \\\n",
       "16                          0                        328.1787   \n",
       "17                          0                        378.1072   \n",
       "18                          0                        465.2376   \n",
       "32                          0                        418.2369   \n",
       "35                          0                        333.0768   \n",
       "\n",
       "   Molecular Species Molecular Formula  \\\n",
       "16              BASE        C19H24N2O3   \n",
       "17           NEUTRAL      C18H22N2O3S2   \n",
       "18           NEUTRAL        C25H31N5O4   \n",
       "32           NEUTRAL        C25H30N4O2   \n",
       "35              ACID       C17H16ClNO4   \n",
       "\n",
       "                                               Smiles  \n",
       "16    C[C@H](CCc1ccccc1)NC[C@H](O)c1ccc(O)c(C(N)=O)c1  \n",
       "17  CS(=O)(=O)c1ccc([C@@H](CC2CCCC2)C(=O)Nc2nccs2)cc1  \n",
       "18  COc1ccc(-c2ccc3c(N4CCOCC4)nc(N4C[C@H](C)O[C@H]...  \n",
       "32   Cc1cc(NC(=O)NCCN2CCC(O)(Cc3ccccc3)CC2)c2ccccc2n1  \n",
       "35             COc1ccc(Cl)cc1C(=O)NCCc1ccc(C(=O)O)cc1  \n",
       "\n",
       "[5 rows x 31 columns]"
      ]
     },
     "execution_count": 4,
     "metadata": {},
     "output_type": "execute_result"
    }
   ],
   "source": [
    "file.head()"
   ]
  },
  {
   "cell_type": "markdown",
   "metadata": {},
   "source": [
    "## Data processing "
   ]
  },
  {
   "cell_type": "code",
   "execution_count": 5,
   "metadata": {},
   "outputs": [
    {
     "data": {
      "text/html": [
       "<div>\n",
       "<style scoped>\n",
       "    .dataframe tbody tr th:only-of-type {\n",
       "        vertical-align: middle;\n",
       "    }\n",
       "\n",
       "    .dataframe tbody tr th {\n",
       "        vertical-align: top;\n",
       "    }\n",
       "\n",
       "    .dataframe thead th {\n",
       "        text-align: right;\n",
       "    }\n",
       "</style>\n",
       "<table border=\"1\" class=\"dataframe\">\n",
       "  <thead>\n",
       "    <tr style=\"text-align: right;\">\n",
       "      <th></th>\n",
       "      <th>Max Phase</th>\n",
       "      <th>Molecular Weight</th>\n",
       "      <th>Targets</th>\n",
       "      <th>Bioactivities</th>\n",
       "      <th>AlogP</th>\n",
       "      <th>PSA</th>\n",
       "      <th>HBA</th>\n",
       "      <th>HBD</th>\n",
       "      <th>#RO5 Violations</th>\n",
       "      <th>Passes Ro3</th>\n",
       "      <th>...</th>\n",
       "      <th>CX BpKa</th>\n",
       "      <th>CX LogP</th>\n",
       "      <th>CX LogD</th>\n",
       "      <th>Aromatic Rings</th>\n",
       "      <th>Inorganic Flag</th>\n",
       "      <th>Heavy Atoms</th>\n",
       "      <th>HBA Lipinski</th>\n",
       "      <th>HBD Lipinski</th>\n",
       "      <th>#RO5 Violations (Lipinski)</th>\n",
       "      <th>Molecular Weight (Monoisotopic)</th>\n",
       "    </tr>\n",
       "  </thead>\n",
       "  <tbody>\n",
       "    <tr>\n",
       "      <th>16</th>\n",
       "      <td>4</td>\n",
       "      <td>328.41</td>\n",
       "      <td>10</td>\n",
       "      <td>34</td>\n",
       "      <td>2.14</td>\n",
       "      <td>95.58</td>\n",
       "      <td>4</td>\n",
       "      <td>4</td>\n",
       "      <td>0</td>\n",
       "      <td>0</td>\n",
       "      <td>...</td>\n",
       "      <td>9.80</td>\n",
       "      <td>1.89</td>\n",
       "      <td>1.26</td>\n",
       "      <td>2</td>\n",
       "      <td>0</td>\n",
       "      <td>24</td>\n",
       "      <td>5</td>\n",
       "      <td>5</td>\n",
       "      <td>0</td>\n",
       "      <td>328.1787</td>\n",
       "    </tr>\n",
       "    <tr>\n",
       "      <th>32</th>\n",
       "      <td>2</td>\n",
       "      <td>418.54</td>\n",
       "      <td>4</td>\n",
       "      <td>7</td>\n",
       "      <td>3.73</td>\n",
       "      <td>77.49</td>\n",
       "      <td>4</td>\n",
       "      <td>3</td>\n",
       "      <td>0</td>\n",
       "      <td>0</td>\n",
       "      <td>...</td>\n",
       "      <td>7.91</td>\n",
       "      <td>2.66</td>\n",
       "      <td>2.03</td>\n",
       "      <td>3</td>\n",
       "      <td>0</td>\n",
       "      <td>31</td>\n",
       "      <td>6</td>\n",
       "      <td>3</td>\n",
       "      <td>0</td>\n",
       "      <td>418.2369</td>\n",
       "    </tr>\n",
       "    <tr>\n",
       "      <th>40</th>\n",
       "      <td>0</td>\n",
       "      <td>133.17</td>\n",
       "      <td>3</td>\n",
       "      <td>8</td>\n",
       "      <td>-0.27</td>\n",
       "      <td>49.33</td>\n",
       "      <td>3</td>\n",
       "      <td>2</td>\n",
       "      <td>0</td>\n",
       "      <td>1</td>\n",
       "      <td>...</td>\n",
       "      <td>7.70</td>\n",
       "      <td>-2.68</td>\n",
       "      <td>-2.84</td>\n",
       "      <td>0</td>\n",
       "      <td>0</td>\n",
       "      <td>8</td>\n",
       "      <td>3</td>\n",
       "      <td>2</td>\n",
       "      <td>0</td>\n",
       "      <td>133.0197</td>\n",
       "    </tr>\n",
       "    <tr>\n",
       "      <th>48</th>\n",
       "      <td>0</td>\n",
       "      <td>297.79</td>\n",
       "      <td>2</td>\n",
       "      <td>10</td>\n",
       "      <td>1.13</td>\n",
       "      <td>70.05</td>\n",
       "      <td>4</td>\n",
       "      <td>3</td>\n",
       "      <td>0</td>\n",
       "      <td>0</td>\n",
       "      <td>...</td>\n",
       "      <td>9.14</td>\n",
       "      <td>0.84</td>\n",
       "      <td>-0.89</td>\n",
       "      <td>2</td>\n",
       "      <td>-1</td>\n",
       "      <td>19</td>\n",
       "      <td>5</td>\n",
       "      <td>3</td>\n",
       "      <td>0</td>\n",
       "      <td>261.1477</td>\n",
       "    </tr>\n",
       "    <tr>\n",
       "      <th>84</th>\n",
       "      <td>0</td>\n",
       "      <td>408.89</td>\n",
       "      <td>6</td>\n",
       "      <td>17</td>\n",
       "      <td>4.21</td>\n",
       "      <td>85.17</td>\n",
       "      <td>5</td>\n",
       "      <td>2</td>\n",
       "      <td>0</td>\n",
       "      <td>0</td>\n",
       "      <td>...</td>\n",
       "      <td>6.21</td>\n",
       "      <td>3.74</td>\n",
       "      <td>3.72</td>\n",
       "      <td>3</td>\n",
       "      <td>-1</td>\n",
       "      <td>29</td>\n",
       "      <td>6</td>\n",
       "      <td>2</td>\n",
       "      <td>0</td>\n",
       "      <td>408.1353</td>\n",
       "    </tr>\n",
       "  </tbody>\n",
       "</table>\n",
       "<p>5 rows × 22 columns</p>\n",
       "</div>"
      ],
      "text/plain": [
       "    Max Phase  Molecular Weight  Targets  Bioactivities  AlogP    PSA HBA HBD  \\\n",
       "16          4            328.41       10             34   2.14  95.58   4   4   \n",
       "32          2            418.54        4              7   3.73  77.49   4   3   \n",
       "40          0            133.17        3              8  -0.27  49.33   3   2   \n",
       "48          0            297.79        2             10   1.13  70.05   4   3   \n",
       "84          0            408.89        6             17   4.21  85.17   5   2   \n",
       "\n",
       "   #RO5 Violations Passes Ro3  ... CX BpKa CX LogP CX LogD Aromatic Rings  \\\n",
       "16               0          0  ...    9.80    1.89    1.26              2   \n",
       "32               0          0  ...    7.91    2.66    2.03              3   \n",
       "40               0          1  ...    7.70   -2.68   -2.84              0   \n",
       "48               0          0  ...    9.14    0.84   -0.89              2   \n",
       "84               0          0  ...    6.21    3.74    3.72              3   \n",
       "\n",
       "   Inorganic Flag Heavy Atoms  HBA Lipinski HBD Lipinski  \\\n",
       "16              0          24             5            5   \n",
       "32              0          31             6            3   \n",
       "40              0           8             3            2   \n",
       "48             -1          19             5            3   \n",
       "84             -1          29             6            2   \n",
       "\n",
       "   #RO5 Violations (Lipinski) Molecular Weight (Monoisotopic)  \n",
       "16                          0                        328.1787  \n",
       "32                          0                        418.2369  \n",
       "40                          0                        133.0197  \n",
       "48                          0                        261.1477  \n",
       "84                          0                        408.1353  \n",
       "\n",
       "[5 rows x 22 columns]"
      ]
     },
     "execution_count": 5,
     "metadata": {},
     "output_type": "execute_result"
    }
   ],
   "source": [
    "x=file.drop([\"ChEMBL ID\",\"Name\",\"Synonyms\",\"Type\",\"Molecular Species\",\"Molecular Formula\",\"Smiles\",\"Structure Type\",\"#Rotatable Bonds\"],axis=1)\n",
    "x.loc[x['Passes Ro3']==\"N\", 'Passes Ro3'] = 0\n",
    "x.loc[x['Passes Ro3']==\"Y\", 'Passes Ro3'] = 1\n",
    "x=x[x[\"CX BpKa\"] !=\"None\"]\n",
    "x=x[x[\"CX ApKa\"] !=\"None\"]\n",
    "x.head()"
   ]
  },
  {
   "cell_type": "code",
   "execution_count": 6,
   "metadata": {},
   "outputs": [
    {
     "data": {
      "text/plain": [
       "Index(['Max Phase', 'Molecular Weight', 'Targets', 'Bioactivities', 'AlogP',\n",
       "       'PSA', 'HBA', 'HBD', '#RO5 Violations', 'Passes Ro3', 'QED Weighted',\n",
       "       'CX ApKa', 'CX BpKa', 'CX LogP', 'CX LogD', 'Aromatic Rings',\n",
       "       'Inorganic Flag', 'Heavy Atoms', 'HBA Lipinski', 'HBD Lipinski',\n",
       "       '#RO5 Violations (Lipinski)', 'Molecular Weight (Monoisotopic)'],\n",
       "      dtype='object')"
      ]
     },
     "execution_count": 6,
     "metadata": {},
     "output_type": "execute_result"
    }
   ],
   "source": [
    "x.columns"
   ]
  },
  {
   "cell_type": "code",
   "execution_count": 7,
   "metadata": {},
   "outputs": [],
   "source": [
    "y=x[\"Bioactivities\"]"
   ]
  },
  {
   "cell_type": "code",
   "execution_count": 8,
   "metadata": {},
   "outputs": [
    {
     "data": {
      "text/plain": [
       "<matplotlib.axes._subplots.AxesSubplot at 0x1dfb48dfac8>"
      ]
     },
     "execution_count": 8,
     "metadata": {},
     "output_type": "execute_result"
    },
    {
     "data": {
      "image/png": "[encoded data removed]",
      "text/plain": [
       "<Figure size 432x288 with 2 Axes>"
      ]
     },
     "metadata": {
      "needs_background": "light"
     },
     "output_type": "display_data"
    }
   ],
   "source": [
    "correlation_matrix = x.corr()\n",
    "sns.heatmap(data=correlation_matrix, annot=True)"
   ]
  },
  {
   "cell_type": "code",
   "execution_count": 9,
   "metadata": {},
   "outputs": [
    {
     "data": {
      "image/png": "[encoded data removed]",
      "text/plain": [
       "<Figure size 432x288 with 1 Axes>"
      ]
     },
     "metadata": {
      "needs_background": "light"
     },
     "output_type": "display_data"
    }
   ],
   "source": [
    "plt.scatter(np.array(x['Targets']),np.array(x['Bioactivities']))\n",
    "plt.xlabel(\"Targets\")\n",
    "plt.ylabel(\"Bioactivities\")\n",
    "plt.show()"
   ]
  },
  {
   "cell_type": "markdown",
   "metadata": {},
   "source": [
    "## Removing Bioactivities column alone"
   ]
  },
  {
   "cell_type": "code",
   "execution_count": 10,
   "metadata": {},
   "outputs": [],
   "source": [
    "x=x[['Max Phase', 'Molecular Weight', 'Targets', 'AlogP',\n",
    "       'PSA', 'HBA', 'HBD', '#RO5 Violations', 'Passes Ro3', 'QED Weighted',\n",
    "       'CX ApKa', 'CX BpKa', 'CX LogP', 'CX LogD', 'Aromatic Rings',\n",
    "       'Inorganic Flag', 'Heavy Atoms', 'HBA Lipinski', 'HBD Lipinski',\n",
    "       '#RO5 Violations (Lipinski)', 'Molecular Weight (Monoisotopic)']]"
   ]
  },
  {
   "cell_type": "code",
   "execution_count": 11,
   "metadata": {},
   "outputs": [],
   "source": [
    "x=np.array(x)\n",
    "y=np.array(y)"
   ]
  },
  {
   "cell_type": "markdown",
   "metadata": {},
   "source": [
    "## Data is converted from string to float datatype "
   ]
  },
  {
   "cell_type": "code",
   "execution_count": 12,
   "metadata": {},
   "outputs": [],
   "source": [
    "for i in range(len(x)):\n",
    "    for j in range(len(x[i])):\n",
    "        if x[i][j]!=\"None\":\n",
    "            x[i][j]=float(x[i][j])\n",
    "        else: \n",
    "            print(j)"
   ]
  },
  {
   "cell_type": "markdown",
   "metadata": {},
   "source": [
    "##  Data scaling using MinMaxScaler"
   ]
  },
  {
   "cell_type": "code",
   "execution_count": 13,
   "metadata": {},
   "outputs": [],
   "source": [
    "from sklearn.preprocessing import MinMaxScaler\n",
    "x=MinMaxScaler().fit_transform(x)"
   ]
  },
  {
   "cell_type": "markdown",
   "metadata": {},
   "source": [
    "## Machine learning model : LinearRegression"
   ]
  },
  {
   "cell_type": "code",
   "execution_count": 14,
   "metadata": {},
   "outputs": [],
   "source": [
    "from sklearn.model_selection import train_test_split\n",
    "x_train,x_test,y_train,y_test=train_test_split(x,y)"
   ]
  },
  {
   "cell_type": "code",
   "execution_count": 15,
   "metadata": {},
   "outputs": [
    {
     "data": {
      "text/plain": [
       "1022035.2037586105"
      ]
     },
     "execution_count": 15,
     "metadata": {},
     "output_type": "execute_result"
    }
   ],
   "source": [
    "from sklearn.linear_model import LinearRegression \n",
    "reg=LinearRegression().fit(x_train,y_train)\n",
    "np.mean((reg.predict(x_test) - y_test)**2)"
   ]
  },
  {
   "cell_type": "markdown",
   "metadata": {},
   "source": [
    "## Evaluation metrics for model developed"
   ]
  },
  {
   "cell_type": "code",
   "execution_count": 16,
   "metadata": {},
   "outputs": [],
   "source": [
    "from sklearn.metrics import r2_score"
   ]
  },
  {
   "cell_type": "code",
   "execution_count": 17,
   "metadata": {},
   "outputs": [],
   "source": [
    "yhat=reg.predict(x_test)\n",
    "r2lr=r2_score(y_test, yhat)"
   ]
  },
  {
   "cell_type": "markdown",
   "metadata": {},
   "source": [
    "# Best score for r2 is 1.0 and worst is large negative no. , linear regression model performs decently at 0.24 "
   ]
  },
  {
   "cell_type": "markdown",
   "metadata": {},
   "source": [
    "## Machine learning model : SupportVectorMachine"
   ]
  },
  {
   "cell_type": "code",
   "execution_count": 19,
   "metadata": {},
   "outputs": [
    {
     "data": {
      "text/plain": [
       "1602237.1752873564"
      ]
     },
     "execution_count": 19,
     "metadata": {},
     "output_type": "execute_result"
    }
   ],
   "source": [
    "from sklearn import svm\n",
    "clf = svm.SVC(kernel='rbf')\n",
    "clf.fit(x_train, y_train)\n",
    "np.mean((clf.predict(x_test) - y_test)**2)"
   ]
  },
  {
   "cell_type": "code",
   "execution_count": 20,
   "metadata": {},
   "outputs": [],
   "source": [
    "yhat=clf.predict(x_test)\n",
    "r2svm=r2_score(y_test, yhat)"
   ]
  },
  {
   "cell_type": "markdown",
   "metadata": {},
   "source": [
    "## SVM predicts with r2_score at -1.07"
   ]
  },
  {
   "cell_type": "markdown",
   "metadata": {},
   "source": [
    "## Machine learning model : K nearest neighbours"
   ]
  },
  {
   "cell_type": "code",
   "execution_count": 21,
   "metadata": {},
   "outputs": [
    {
     "data": {
      "text/plain": [
       "1022035.2037586105"
      ]
     },
     "execution_count": 21,
     "metadata": {},
     "output_type": "execute_result"
    }
   ],
   "source": [
    "from sklearn.neighbors import KNeighborsClassifier\n",
    "knn=KNeighborsClassifier().fit(x_test,y_test)\n",
    "yhat=knn.predict(x_test)\n",
    "np.mean((reg.predict(x_test) - y_test)**2)"
   ]
  },
  {
   "cell_type": "code",
   "execution_count": 22,
   "metadata": {},
   "outputs": [],
   "source": [
    "r2knn=r2_score(y_test, yhat)"
   ]
  },
  {
   "cell_type": "markdown",
   "metadata": {},
   "source": [
    "## K Nearest Neighbour performs at 0.04"
   ]
  },
  {
   "cell_type": "markdown",
   "metadata": {},
   "source": [
    "## Machine learning model : SGDClassifier"
   ]
  },
  {
   "cell_type": "code",
   "execution_count": 24,
   "metadata": {},
   "outputs": [],
   "source": [
    "from sklearn.linear_model import SGDClassifier\n",
    "sgd = SGDClassifier(max_iter=5, tol=None)\n",
    "sgd.fit(x_train, y_train)\n",
    "y_pred = sgd.predict(x_test)"
   ]
  },
  {
   "cell_type": "code",
   "execution_count": 25,
   "metadata": {},
   "outputs": [],
   "source": [
    "r2sgd=r2_score(y_test, y_pred)"
   ]
  },
  {
   "cell_type": "markdown",
   "metadata": {},
   "source": [
    "## Machine learning model : DecisionTreeClassifier"
   ]
  },
  {
   "cell_type": "code",
   "execution_count": 26,
   "metadata": {},
   "outputs": [],
   "source": [
    "from sklearn.tree import DecisionTreeClassifier\n",
    "decision_tree = DecisionTreeClassifier() \n",
    "decision_tree.fit(x_train, y_train)\n",
    "Y_pred = decision_tree.predict(x_test)  \n",
    "acc_decision_tree = round(decision_tree.score(x_train, y_train) * 100, 2)"
   ]
  },
  {
   "cell_type": "code",
   "execution_count": 27,
   "metadata": {},
   "outputs": [],
   "source": [
    "r2dtc=r2_score(y_test,Y_pred)"
   ]
  },
  {
   "cell_type": "code",
   "execution_count": 28,
   "metadata": {},
   "outputs": [
    {
     "data": {
      "text/plain": [
       "1131512.1436781608"
      ]
     },
     "execution_count": 28,
     "metadata": {},
     "output_type": "execute_result"
    }
   ],
   "source": [
    "np.mean((decision_tree.predict(x_test) - y_test)**2)"
   ]
  },
  {
   "cell_type": "markdown",
   "metadata": {},
   "source": [
    "# Results"
   ]
  },
  {
   "cell_type": "code",
   "execution_count": 29,
   "metadata": {},
   "outputs": [
    {
     "data": {
      "text/html": [
       "<div>\n",
       "<style scoped>\n",
       "    .dataframe tbody tr th:only-of-type {\n",
       "        vertical-align: middle;\n",
       "    }\n",
       "\n",
       "    .dataframe tbody tr th {\n",
       "        vertical-align: top;\n",
       "    }\n",
       "\n",
       "    .dataframe thead th {\n",
       "        text-align: right;\n",
       "    }\n",
       "</style>\n",
       "<table border=\"1\" class=\"dataframe\">\n",
       "  <thead>\n",
       "    <tr style=\"text-align: right;\">\n",
       "      <th></th>\n",
       "      <th>Model</th>\n",
       "    </tr>\n",
       "    <tr>\n",
       "      <th>Score</th>\n",
       "      <th></th>\n",
       "    </tr>\n",
       "  </thead>\n",
       "  <tbody>\n",
       "    <tr>\n",
       "      <th>0.272943</th>\n",
       "      <td>Linear Regression</td>\n",
       "    </tr>\n",
       "    <tr>\n",
       "      <th>0.195064</th>\n",
       "      <td>Decision Tree</td>\n",
       "    </tr>\n",
       "    <tr>\n",
       "      <th>-0.027908</th>\n",
       "      <td>KNN</td>\n",
       "    </tr>\n",
       "    <tr>\n",
       "      <th>-0.086003</th>\n",
       "      <td>Stochastic Gradient Decent</td>\n",
       "    </tr>\n",
       "    <tr>\n",
       "      <th>-0.139801</th>\n",
       "      <td>Support Vector Machines</td>\n",
       "    </tr>\n",
       "  </tbody>\n",
       "</table>\n",
       "</div>"
      ],
      "text/plain": [
       "                                Model\n",
       "Score                                \n",
       " 0.272943           Linear Regression\n",
       " 0.195064               Decision Tree\n",
       "-0.027908                         KNN\n",
       "-0.086003  Stochastic Gradient Decent\n",
       "-0.139801     Support Vector Machines"
      ]
     },
     "execution_count": 29,
     "metadata": {},
     "output_type": "execute_result"
    }
   ],
   "source": [
    "results = pd.DataFrame({\n",
    "    'Model': [\"Linear Regression\",'Support Vector Machines', 'KNN',   \n",
    "              'Stochastic Gradient Decent', \n",
    "              'Decision Tree'],\n",
    "    'Score': [r2lr,r2svm,r2knn,r2sgd,r2dtc]})\n",
    "result_df = results.sort_values(by='Score', ascending=False)\n",
    "result_df = result_df.set_index('Score')\n",
    "result_df.head(9)"
   ]
  }
 ],
 "metadata": {
  "kernelspec": {
   "display_name": "Python 3",
   "language": "python",
   "name": "python3"
  },
  "language_info": {
   "codemirror_mode": {
    "name": "ipython",
    "version": 3
   },
   "file_extension": ".py",
   "mimetype": "text/x-python",
   "name": "python",
   "nbconvert_exporter": "python",
   "pygments_lexer": "ipython3",
   "version": "3.7.6"
  }
 },
 "nbformat": 4,
 "nbformat_minor": 4
}
