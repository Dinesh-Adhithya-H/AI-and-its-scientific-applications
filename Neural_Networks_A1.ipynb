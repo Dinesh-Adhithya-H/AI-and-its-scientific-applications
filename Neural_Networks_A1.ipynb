{
 "cells": [
  {
   "cell_type": "markdown",
   "metadata": {},
   "source": [
    "## Assignment 1"
   ]
  },
  {
   "cell_type": "code",
   "execution_count": 13,
   "metadata": {},
   "outputs": [],
   "source": [
    "import tensorflow as tf\n",
    "import matplotlib.pyplot as plt\n",
    "import numpy as np\n",
    "import random as rn"
   ]
  },
  {
   "cell_type": "markdown",
   "metadata": {},
   "source": [
    "## Part One:\n",
    "\n",
    "* How many total trainable parameters does this model have?\n",
    "  * How many weights?->> 101632\n",
    "  * How many biases?->> 138\n",
    "* How accurate was this model on the validation data after 10 epochs?\n",
    "  * How different was the models performance on the training data?->>> 0.98\n",
    "  * How different was the models performance on the test data?->>> 0.97\n",
    "* About how long did each epoch take?->>> 2seconds and 2milliseconds"
   ]
  },
  {
   "cell_type": "code",
   "execution_count": 8,
   "metadata": {},
   "outputs": [
    {
     "name": "stdout",
     "output_type": "stream",
     "text": [
      "tensorflow version2.3.1\n"
     ]
    }
   ],
   "source": [
    "print(\"tensorflow version\"+tf.__version__)"
   ]
  },
  {
   "cell_type": "code",
   "execution_count": 10,
   "metadata": {},
   "outputs": [],
   "source": [
    "mnist=tf.keras.datasets.mnist\n",
    "(train_images,train_labels),(test_images,test_labels)=mnist.load_data()"
   ]
  },
  {
   "cell_type": "code",
   "execution_count": 14,
   "metadata": {},
   "outputs": [],
   "source": [
    "train_images=(np.expand_dims(train_images,axis=-1)/255).astype(np.float32)\n",
    "test_images = (np.expand_dims(test_images, axis=-1)/255.).astype(np.float32)"
   ]
  },
  {
   "cell_type": "code",
   "execution_count": 16,
   "metadata": {},
   "outputs": [],
   "source": [
    "train_labels=(train_labels).astype(np.int64)\n",
    "test_labels=(test_labels).astype(np.int64)"
   ]
  },
  {
   "cell_type": "code",
   "execution_count": 27,
   "metadata": {},
   "outputs": [],
   "source": [
    "def model_mnist():\n",
    "    model= tf.keras.Sequential([\n",
    "      tf.keras.layers.Flatten(),\n",
    "      tf.keras.layers.Dense(128, activation= tf.nn.relu),\n",
    "      tf.keras.layers.Dense(10,activation=tf.nn.softmax)])\n",
    "    return(model)"
   ]
  },
  {
   "cell_type": "code",
   "execution_count": 28,
   "metadata": {},
   "outputs": [],
   "source": [
    "m1=model_mnist()"
   ]
  },
  {
   "cell_type": "code",
   "execution_count": 29,
   "metadata": {},
   "outputs": [],
   "source": [
    "m1.compile(optimizer=tf.keras.optimizers.SGD(learning_rate=1e-1), \n",
    "              loss='sparse_categorical_crossentropy',\n",
    "              metrics=['accuracy'])"
   ]
  },
  {
   "cell_type": "code",
   "execution_count": 31,
   "metadata": {},
   "outputs": [
    {
     "name": "stdout",
     "output_type": "stream",
     "text": [
      "Epoch 1/10\n",
      "938/938 [==============================] - 3s 4ms/step - loss: 0.3753 - accuracy: 0.8958\n",
      "Epoch 2/10\n",
      "938/938 [==============================] - 2s 2ms/step - loss: 0.2031 - accuracy: 0.9420\n",
      "Epoch 3/10\n",
      "938/938 [==============================] - 2s 2ms/step - loss: 0.1545 - accuracy: 0.9561\n",
      "Epoch 4/10\n",
      "938/938 [==============================] - 2s 2ms/step - loss: 0.1255 - accuracy: 0.9639\n",
      "Epoch 5/10\n",
      "938/938 [==============================] - 2s 3ms/step - loss: 0.1053 - accuracy: 0.9703\n",
      "Epoch 6/10\n",
      "938/938 [==============================] - 2s 3ms/step - loss: 0.0909 - accuracy: 0.9743\n",
      "Epoch 7/10\n",
      "938/938 [==============================] - 2s 2ms/step - loss: 0.0801 - accuracy: 0.9775\n",
      "Epoch 8/10\n",
      "938/938 [==============================] - 2s 2ms/step - loss: 0.0716 - accuracy: 0.9797\n",
      "Epoch 9/10\n",
      "938/938 [==============================] - 2s 2ms/step - loss: 0.0643 - accuracy: 0.9815\n",
      "Epoch 10/10\n",
      "938/938 [==============================] - 2s 2ms/step - loss: 0.0586 - accuracy: 0.9833\n"
     ]
    },
    {
     "data": {
      "text/plain": [
       "<tensorflow.python.keras.callbacks.History at 0x24d11ce99c8>"
      ]
     },
     "execution_count": 31,
     "metadata": {},
     "output_type": "execute_result"
    }
   ],
   "source": [
    "BATCH_SIZE = 64\n",
    "EPOCHS = 10\n",
    "m1.fit(train_images, train_labels, batch_size=BATCH_SIZE, epochs=EPOCHS)"
   ]
  },
  {
   "cell_type": "code",
   "execution_count": 33,
   "metadata": {},
   "outputs": [
    {
     "name": "stdout",
     "output_type": "stream",
     "text": [
      "313/313 [==============================] - 1s 2ms/step - loss: 0.0791 - accuracy: 0.9748\n",
      "Test accuracy: 0.9747999906539917\n"
     ]
    }
   ],
   "source": [
    "test_loss, test_acc = m1.evaluate(test_images,test_labels)\n",
    "print('Test accuracy:', test_acc)"
   ]
  },
  {
   "cell_type": "markdown",
   "metadata": {},
   "source": [
    "## Part Two:\n",
    "\n",
    "Use Keras to build 3 networks, each with at least 10 hidden layers such that:\n",
    "\n",
    "* The first model has fewer than 10 nodes per layer.\n",
    "* The second model has between 10-50 nodes per layer.\n",
    "* The third model has between 50-100 nodes per layer.\n"
   ]
  },
  {
   "cell_type": "code",
   "execution_count": 34,
   "metadata": {},
   "outputs": [],
   "source": [
    "def model_mnist(n_nodes):\n",
    "    model= tf.keras.Sequential([\n",
    "      tf.keras.layers.Flatten(),\n",
    "      tf.keras.layers.Dense(n_nodes, activation= tf.nn.relu),\n",
    "      tf.keras.layers.Dense(n_nodes, activation= tf.nn.relu),\n",
    "      tf.keras.layers.Dense(n_nodes, activation= tf.nn.relu),\n",
    "      tf.keras.layers.Dense(n_nodes, activation= tf.nn.relu),\n",
    "      tf.keras.layers.Dense(n_nodes, activation= tf.nn.relu),\n",
    "      tf.keras.layers.Dense(n_nodes, activation= tf.nn.relu),\n",
    "      tf.keras.layers.Dense(n_nodes, activation= tf.nn.relu),\n",
    "      tf.keras.layers.Dense(n_nodes, activation= tf.nn.relu),\n",
    "      tf.keras.layers.Dense(n_nodes, activation= tf.nn.relu),\n",
    "      tf.keras.layers.Dense(n_nodes,activation=tf.nn.softmax)])\n",
    "    return(model)"
   ]
  },
  {
   "cell_type": "code",
   "execution_count": 35,
   "metadata": {},
   "outputs": [
    {
     "name": "stdout",
     "output_type": "stream",
     "text": [
      "Epoch 1/10\n",
      "938/938 [==============================] - 3s 3ms/step - loss: 1.4957 - accuracy: 0.4323\n",
      "Epoch 2/10\n",
      "938/938 [==============================] - 2s 2ms/step - loss: 0.7834 - accuracy: 0.7152\n",
      "Epoch 3/10\n",
      "938/938 [==============================] - 2s 3ms/step - loss: 0.6437 - accuracy: 0.7869\n",
      "Epoch 4/10\n",
      "938/938 [==============================] - 2s 2ms/step - loss: 0.4761 - accuracy: 0.8784\n",
      "Epoch 5/10\n",
      "938/938 [==============================] - 2s 3ms/step - loss: 0.3886 - accuracy: 0.8996\n",
      "Epoch 6/10\n",
      "938/938 [==============================] - 2s 2ms/step - loss: 0.3637 - accuracy: 0.9053\n",
      "Epoch 7/10\n",
      "938/938 [==============================] - 2s 2ms/step - loss: 0.3305 - accuracy: 0.9138\n",
      "Epoch 8/10\n",
      "938/938 [==============================] - 3s 3ms/step - loss: 0.3105 - accuracy: 0.9191\n",
      "Epoch 9/10\n",
      "938/938 [==============================] - 3s 3ms/step - loss: 0.2949 - accuracy: 0.9230\n",
      "Epoch 10/10\n",
      "938/938 [==============================] - 2s 2ms/step - loss: 0.2840 - accuracy: 0.9257\n",
      "313/313 [==============================] - 1s 2ms/step - loss: 0.2824 - accuracy: 0.9252\n",
      "Test accuracy: 0.9251999855041504\n"
     ]
    }
   ],
   "source": [
    "m1=model_mnist(10)\n",
    "m2=model_mnist(50)\n",
    "m3=model_mnist(100)\n",
    "m1.compile(optimizer=tf.keras.optimizers.SGD(learning_rate=1e-1), \n",
    "              loss='sparse_categorical_crossentropy',\n",
    "              metrics=['accuracy'])\n",
    "BATCH_SIZE = 64\n",
    "EPOCHS = 10\n",
    "m1.fit(train_images, train_labels, batch_size=BATCH_SIZE, epochs=EPOCHS)\n",
    "test_loss, test_acc = m1.evaluate(test_images,test_labels)\n",
    "print('Test accuracy:', test_acc)"
   ]
  },
  {
   "cell_type": "code",
   "execution_count": 36,
   "metadata": {},
   "outputs": [
    {
     "name": "stdout",
     "output_type": "stream",
     "text": [
      "Epoch 1/10\n",
      "938/938 [==============================] - 3s 3ms/step - loss: 1.0324 - accuracy: 0.6603\n",
      "Epoch 2/10\n",
      "938/938 [==============================] - 3s 3ms/step - loss: 0.2510 - accuracy: 0.9321\n",
      "Epoch 3/10\n",
      "938/938 [==============================] - 3s 4ms/step - loss: 0.1737 - accuracy: 0.9517\n",
      "Epoch 4/10\n",
      "938/938 [==============================] - 3s 4ms/step - loss: 0.1378 - accuracy: 0.9610\n",
      "Epoch 5/10\n",
      "938/938 [==============================] - 3s 3ms/step - loss: 0.1166 - accuracy: 0.9669\n",
      "Epoch 6/10\n",
      "938/938 [==============================] - 3s 4ms/step - loss: 0.1024 - accuracy: 0.9699\n",
      "Epoch 7/10\n",
      "938/938 [==============================] - 3s 3ms/step - loss: 0.0912 - accuracy: 0.9739\n",
      "Epoch 8/10\n",
      "938/938 [==============================] - 3s 3ms/step - loss: 0.0810 - accuracy: 0.9769\n",
      "Epoch 9/10\n",
      "938/938 [==============================] - 3s 3ms/step - loss: 0.0742 - accuracy: 0.9782\n",
      "Epoch 10/10\n",
      "938/938 [==============================] - 3s 3ms/step - loss: 0.0679 - accuracy: 0.9804\n",
      "313/313 [==============================] - 1s 3ms/step - loss: 0.1300 - accuracy: 0.9653\n",
      "Test accuracy: 0.9653000235557556\n"
     ]
    }
   ],
   "source": [
    "m2.compile(optimizer=tf.keras.optimizers.SGD(learning_rate=1e-1), \n",
    "              loss='sparse_categorical_crossentropy',\n",
    "              metrics=['accuracy'])\n",
    "BATCH_SIZE = 64\n",
    "EPOCHS = 10\n",
    "m2.fit(train_images, train_labels, batch_size=BATCH_SIZE, epochs=EPOCHS)\n",
    "test_loss, test_acc = m2.evaluate(test_images,test_labels)\n",
    "print('Test accuracy:', test_acc)"
   ]
  },
  {
   "cell_type": "code",
   "execution_count": 37,
   "metadata": {},
   "outputs": [
    {
     "name": "stdout",
     "output_type": "stream",
     "text": [
      "Epoch 1/10\n",
      "938/938 [==============================] - 4s 5ms/step - loss: 0.9713 - accuracy: 0.6771\n",
      "Epoch 2/10\n",
      "938/938 [==============================] - 4s 4ms/step - loss: 0.1852 - accuracy: 0.9471\n",
      "Epoch 3/10\n",
      "938/938 [==============================] - 4s 4ms/step - loss: 0.1223 - accuracy: 0.9649\n",
      "Epoch 4/10\n",
      "938/938 [==============================] - 4s 5ms/step - loss: 0.0964 - accuracy: 0.9724\n",
      "Epoch 5/10\n",
      "938/938 [==============================] - 4s 5ms/step - loss: 0.0782 - accuracy: 0.9773\n",
      "Epoch 6/10\n",
      "938/938 [==============================] - 4s 5ms/step - loss: 0.0677 - accuracy: 0.9805\n",
      "Epoch 7/10\n",
      "938/938 [==============================] - 4s 5ms/step - loss: 0.0563 - accuracy: 0.9837\n",
      "Epoch 8/10\n",
      "938/938 [==============================] - 4s 5ms/step - loss: 0.0489 - accuracy: 0.9856\n",
      "Epoch 9/10\n",
      "938/938 [==============================] - 4s 5ms/step - loss: 0.0421 - accuracy: 0.9870\n",
      "Epoch 10/10\n",
      "938/938 [==============================] - 5s 5ms/step - loss: 0.0377 - accuracy: 0.9886\n",
      "313/313 [==============================] - 1s 4ms/step - loss: 0.0840 - accuracy: 0.9768\n",
      "Test accuracy: 0.9768000245094299\n"
     ]
    }
   ],
   "source": [
    "m3.compile(optimizer=tf.keras.optimizers.SGD(learning_rate=1e-1), \n",
    "              loss='sparse_categorical_crossentropy',\n",
    "              metrics=['accuracy'])\n",
    "BATCH_SIZE = 64\n",
    "EPOCHS = 10\n",
    "m3.fit(train_images, train_labels, batch_size=BATCH_SIZE, epochs=EPOCHS)\n",
    "test_loss, test_acc = m3.evaluate(test_images,test_labels)\n",
    "print('Test accuracy:', test_acc)"
   ]
  },
  {
   "cell_type": "markdown",
   "metadata": {},
   "source": [
    "* Did any of these models achieve better than 20% accuracy on validation or test data?\n",
    "  ->> yes, all of them\n",
    "* How many total trainable parameters do each of these models have?\n",
    "    ->> ~n_nodes^10 + n_nodes*10\n",
    "* Is there a clear correlation between number of trainable parameters and accuracy?\n",
    "    ->> more nodes ie. parameters there is increase in test accuracy"
   ]
  },
  {
   "cell_type": "markdown",
   "metadata": {},
   "source": [
    "## Part Three:"
   ]
  },
  {
   "cell_type": "code",
   "execution_count": 38,
   "metadata": {},
   "outputs": [
    {
     "name": "stdout",
     "output_type": "stream",
     "text": [
      "Epoch 1/10\n",
      "938/938 [==============================] - 5s 5ms/step - loss: 0.0356 - accuracy: 0.9895\n",
      "Epoch 2/10\n",
      "938/938 [==============================] - 4s 5ms/step - loss: 0.0300 - accuracy: 0.9906\n",
      "Epoch 3/10\n",
      "938/938 [==============================] - 4s 5ms/step - loss: 0.0267 - accuracy: 0.9918\n",
      "Epoch 4/10\n",
      "938/938 [==============================] - 4s 5ms/step - loss: 0.0268 - accuracy: 0.9913\n",
      "Epoch 5/10\n",
      "938/938 [==============================] - 5s 5ms/step - loss: 0.0225 - accuracy: 0.9931\n",
      "Epoch 6/10\n",
      "938/938 [==============================] - 5s 5ms/step - loss: 0.0166 - accuracy: 0.9947\n",
      "Epoch 7/10\n",
      "938/938 [==============================] - 4s 4ms/step - loss: 0.0183 - accuracy: 0.9947\n",
      "Epoch 8/10\n",
      "938/938 [==============================] - 4s 5ms/step - loss: 0.0172 - accuracy: 0.9950\n",
      "Epoch 9/10\n",
      "938/938 [==============================] - 4s 5ms/step - loss: 0.0154 - accuracy: 0.9955\n",
      "Epoch 10/10\n",
      "938/938 [==============================] - 5s 5ms/step - loss: 0.0172 - accuracy: 0.9947\n",
      "313/313 [==============================] - 1s 2ms/step - loss: 0.1143 - accuracy: 0.9745\n",
      "Test accuracy: 0.9745000004768372\n"
     ]
    }
   ],
   "source": [
    "m3.compile(optimizer=tf.keras.optimizers.SGD(learning_rate=1e-1), \n",
    "              loss='sparse_categorical_crossentropy',\n",
    "              metrics=['accuracy'])\n",
    "BATCH_SIZE = 64\n",
    "EPOCHS = 10\n",
    "m3.fit(train_images, train_labels, batch_size=BATCH_SIZE, epochs=EPOCHS)\n",
    "test_loss, test_acc = m3.evaluate(test_images,test_labels)\n",
    "print('Test accuracy:', test_acc)"
   ]
  },
  {
   "cell_type": "markdown",
   "metadata": {},
   "source": [
    "Build a network with at least 3 hidden layers that achieves better than 92% accuracy on validation and test data.\n",
    "You may need to train for more than 10 epochs to achieve this result.\n",
    "\n",
    "* Compare your best results to the result you got in part one:\n",
    "  * Which network achieved the best accuracy on test data after training?\n",
    "  ->> the NN in part 1 had performed better as it had test accuracy 0.974799 with last one at 0.9745\n",
    "  * Did the networks train for a similar number of epochs?\n",
    "  ->> same no. of epochs 10"
   ]
  }
 ],
 "metadata": {
  "kernelspec": {
   "display_name": "Python 3",
   "language": "python",
   "name": "python3"
  },
  "language_info": {
   "codemirror_mode": {
    "name": "ipython",
    "version": 3
   },
   "file_extension": ".py",
   "mimetype": "text/x-python",
   "name": "python",
   "nbconvert_exporter": "python",
   "pygments_lexer": "ipython3",
   "version": "3.7.6"
  }
 },
 "nbformat": 4,
 "nbformat_minor": 4
}
