{
  "nbformat": 4,
  "nbformat_minor": 0,
  "metadata": {
    "colab": {
      "name": "Time_series_prediction.ipynb",
      "provenance": [],
      "collapsed_sections": [],
      "authorship_tag": "ABX9TyM7fjGM82JHWovEio7GUWVo",
      "include_colab_link": true
    },
    "kernelspec": {
      "name": "python3",
      "display_name": "Python 3"
    },
    "accelerator": "TPU"
  },
  "cells": [
    {
      "cell_type": "markdown",
      "metadata": {
        "id": "view-in-github",
        "colab_type": "text"
      },
      "source": [
        "<a href=\"https://colab.research.google.com/github/Dinesh-Adhithya-H/AI-and-its-scientific-applications/blob/master/Time_series_prediction.ipynb\" target=\"_parent\"><img src=\"https://colab.research.google.com/assets/colab-badge.svg\" alt=\"Open In Colab\"/></a>"
      ]
    },
    {
      "cell_type": "code",
      "metadata": {
        "colab": {
          "base_uri": "https://localhost:8080/"
        },
        "id": "3mhF9Umpo7Oc",
        "outputId": "f3794f15-d914-4270-a033-5643a7b4bbbc"
      },
      "source": [
        "!wget https://raw.githubusercontent.com/CSSEGISandData/COVID-19/master/csse_covid_19_data/csse_covid_19_time_series/time_series_covid19_confirmed_global.csv"
      ],
      "execution_count": 2,
      "outputs": [
        {
          "output_type": "stream",
          "text": [
            "--2021-02-12 14:25:00--  https://raw.githubusercontent.com/CSSEGISandData/COVID-19/master/csse_covid_19_data/csse_covid_19_time_series/time_series_covid19_confirmed_global.csv\n",
            "Resolving raw.githubusercontent.com (raw.githubusercontent.com)... 185.199.108.133, 185.199.109.133, 185.199.110.133, ...\n",
            "Connecting to raw.githubusercontent.com (raw.githubusercontent.com)|185.199.108.133|:443... connected.\n",
            "HTTP request sent, awaiting response... 200 OK\n",
            "Length: 479260 (468K) [text/plain]\n",
            "Saving to: ‘time_series_covid19_confirmed_global.csv’\n",
            "\n",
            "\r          time_seri   0%[                    ]       0  --.-KB/s               \rtime_series_covid19 100%[===================>] 468.03K  --.-KB/s    in 0.04s   \n",
            "\n",
            "2021-02-12 14:25:00 (12.8 MB/s) - ‘time_series_covid19_confirmed_global.csv’ saved [479260/479260]\n",
            "\n"
          ],
          "name": "stdout"
        }
      ]
    },
    {
      "cell_type": "code",
      "metadata": {
        "id": "oSmUhSPISCEm"
      },
      "source": [
        "import tensorflow as tf\n",
        "import numpy as np\n",
        "dataset=tf.data.Dataset.range(384)\n",
        "dataset=dataset.window(5,shift=1,drop_remainder=True)\n",
        "dataset=dataset.flat_map(lambda window:window.batch(5))\n",
        "dataset=dataset.map(lambda window:(window[:-1],window[-1:]))\n",
        "dataset=dataset.shuffle(buffer_size=10)\n",
        "dataset=dataset.batch(1).prefetch(1)\n",
        "x1=[]\n",
        "y1=[]\n",
        "for x,y in dataset:\n",
        "  x1.append(x.numpy())\n",
        "  y1.append(y.numpy())"
      ],
      "execution_count": 1,
      "outputs": []
    },
    {
      "cell_type": "code",
      "metadata": {
        "colab": {
          "base_uri": "https://localhost:8080/"
        },
        "id": "3zvm7FnErQn_",
        "outputId": "195fe666-8db1-4d77-a42d-ef52a0d3ae10"
      },
      "source": [
        "np.array(x1).shape,np.array(y1).shape"
      ],
      "execution_count": 3,
      "outputs": [
        {
          "output_type": "execute_result",
          "data": {
            "text/plain": [
              "((380, 1, 4), (380, 1, 1))"
            ]
          },
          "metadata": {
            "tags": []
          },
          "execution_count": 3
        }
      ]
    },
    {
      "cell_type": "code",
      "metadata": {
        "id": "XL2GrADQAZqi"
      },
      "source": [
        "x1=np.array(x1).reshape(380,4)\r\n",
        "y1=np.array(y1).reshape(380,1)"
      ],
      "execution_count": 4,
      "outputs": []
    },
    {
      "cell_type": "code",
      "metadata": {
        "id": "10MWk2xpo8-_"
      },
      "source": [
        "import pandas as pd\r\n",
        "data=pd.read_csv(\"/content/time_series_covid19_confirmed_global.csv\",delimiter=\",\")"
      ],
      "execution_count": 6,
      "outputs": []
    },
    {
      "cell_type": "code",
      "metadata": {
        "id": "E2bJwXBlpUi5"
      },
      "source": [
        "timeseries=np.array(data[data[\"Country/Region\"]==\"India\"])"
      ],
      "execution_count": 7,
      "outputs": []
    },
    {
      "cell_type": "code",
      "metadata": {
        "id": "vBv5hRMJqCou"
      },
      "source": [
        "timeseries=timeseries[0][4:]"
      ],
      "execution_count": 12,
      "outputs": []
    },
    {
      "cell_type": "code",
      "metadata": {
        "colab": {
          "base_uri": "https://localhost:8080/"
        },
        "id": "l7Uf-CPErL0g",
        "outputId": "aacf7f80-d589-4ff8-8c22-162ee53e49cd"
      },
      "source": [
        "len(timeseries)"
      ],
      "execution_count": 13,
      "outputs": [
        {
          "output_type": "execute_result",
          "data": {
            "text/plain": [
              "387"
            ]
          },
          "metadata": {
            "tags": []
          },
          "execution_count": 13
        }
      ]
    },
    {
      "cell_type": "code",
      "metadata": {
        "id": "ABm8Gafvorjz"
      },
      "source": [
        "x_train=[]\r\n",
        "for i in x1:\r\n",
        "  d=[]\r\n",
        "  for j in i:\r\n",
        "    d.append(timeseries[j])\r\n",
        "  x_train.append(d)"
      ],
      "execution_count": 15,
      "outputs": []
    },
    {
      "cell_type": "code",
      "metadata": {
        "id": "lvxvolS8pVc_"
      },
      "source": [
        "y_train=[]\r\n",
        "for i in y1:\r\n",
        "  d=[]\r\n",
        "  for j in i:\r\n",
        "    d.append(timeseries[j])\r\n",
        "  y_train.append(d)"
      ],
      "execution_count": 17,
      "outputs": []
    },
    {
      "cell_type": "code",
      "metadata": {
        "colab": {
          "base_uri": "https://localhost:8080/"
        },
        "id": "fnESPXFuyo-G",
        "outputId": "17a3d675-5dd3-4562-a930-c0f6bfe90665"
      },
      "source": [
        "len(x_train),len(y_train)"
      ],
      "execution_count": 18,
      "outputs": [
        {
          "output_type": "execute_result",
          "data": {
            "text/plain": [
              "(380, 380)"
            ]
          },
          "metadata": {
            "tags": []
          },
          "execution_count": 18
        }
      ]
    },
    {
      "cell_type": "code",
      "metadata": {
        "id": "ippdRQsMzwqN"
      },
      "source": [
        "x_train=np.array(x_train)\r\n",
        "y_train=np.array(y_train)"
      ],
      "execution_count": 19,
      "outputs": []
    },
    {
      "cell_type": "code",
      "metadata": {
        "colab": {
          "base_uri": "https://localhost:8080/",
          "height": 293
        },
        "id": "kJGsEgfqpeC6",
        "outputId": "802d696f-582b-4adf-ac08-d7ba7bd2a1ea"
      },
      "source": [
        "import matplotlib.pyplot as plt\r\n",
        "plt.plot(y_train)"
      ],
      "execution_count": 24,
      "outputs": [
        {
          "output_type": "execute_result",
          "data": {
            "text/plain": [
              "[<matplotlib.lines.Line2D at 0x7f19d7759470>]"
            ]
          },
          "metadata": {
            "tags": []
          },
          "execution_count": 24
        },
        {
          "output_type": "display_data",
          "data": {
            "image/png": "[encoded data removed]",
            "text/plain": [
              "<Figure size 432x288 with 1 Axes>"
            ]
          },
          "metadata": {
            "tags": [],
            "needs_background": "light"
          }
        }
      ]
    },
    {
      "cell_type": "code",
      "metadata": {
        "id": "4e6vxcb_Tv5H"
      },
      "source": [
        "l0=tf.keras.layers.Dense(1,input_shape=[4])"
      ],
      "execution_count": 20,
      "outputs": []
    },
    {
      "cell_type": "code",
      "metadata": {
        "id": "jBuu4v3s8Ywd"
      },
      "source": [
        "model=tf.keras.models.Sequential([l0])"
      ],
      "execution_count": 21,
      "outputs": []
    },
    {
      "cell_type": "code",
      "metadata": {
        "id": "gPhYoTus8mWW"
      },
      "source": [
        "model.compile(loss=\"mse\",optimizer=tf.keras.optimizers.SGD())"
      ],
      "execution_count": 27,
      "outputs": []
    },
    {
      "cell_type": "code",
      "metadata": {
        "colab": {
          "base_uri": "https://localhost:8080/"
        },
        "id": "5m9UbjIf9BE3",
        "outputId": "f90d6032-4de7-4661-9391-c518ae95316a"
      },
      "source": [
        "model.fit(x_train[:250],y_train[:250],epochs=10)"
      ],
      "execution_count": 28,
      "outputs": [
        {
          "output_type": "stream",
          "text": [
            "Epoch 1/10\n",
            "8/8 [==============================] - 0s 2ms/step - loss: nan\n",
            "Epoch 2/10\n",
            "8/8 [==============================] - 0s 1ms/step - loss: nan\n",
            "Epoch 3/10\n",
            "8/8 [==============================] - 0s 2ms/step - loss: nan\n",
            "Epoch 4/10\n",
            "8/8 [==============================] - 0s 2ms/step - loss: nan\n",
            "Epoch 5/10\n",
            "8/8 [==============================] - 0s 1ms/step - loss: nan\n",
            "Epoch 6/10\n",
            "8/8 [==============================] - 0s 1ms/step - loss: nan\n",
            "Epoch 7/10\n",
            "8/8 [==============================] - 0s 1ms/step - loss: nan\n",
            "Epoch 8/10\n",
            "8/8 [==============================] - 0s 2ms/step - loss: nan\n",
            "Epoch 9/10\n",
            "8/8 [==============================] - 0s 1ms/step - loss: nan\n",
            "Epoch 10/10\n",
            "8/8 [==============================] - 0s 2ms/step - loss: nan\n"
          ],
          "name": "stdout"
        },
        {
          "output_type": "execute_result",
          "data": {
            "text/plain": [
              "<tensorflow.python.keras.callbacks.History at 0x7f19d72367f0>"
            ]
          },
          "metadata": {
            "tags": []
          },
          "execution_count": 28
        }
      ]
    },
    {
      "cell_type": "code",
      "metadata": {
        "colab": {
          "base_uri": "https://localhost:8080/"
        },
        "id": "gpibWkwcAG5j",
        "outputId": "d9d59e8e-a1f4-45b5-a7e0-a242b353b486"
      },
      "source": [
        "l0.get_weights()"
      ],
      "execution_count": 59,
      "outputs": [
        {
          "output_type": "execute_result",
          "data": {
            "text/plain": [
              "[array([[nan],\n",
              "        [nan],\n",
              "        [nan],\n",
              "        [nan]], dtype=float32), array([nan], dtype=float32)]"
            ]
          },
          "metadata": {
            "tags": []
          },
          "execution_count": 59
        }
      ]
    },
    {
      "cell_type": "code",
      "metadata": {
        "id": "-KG14UXnJpST"
      },
      "source": [
        "model = tf.keras.models.Sequential([\r\n",
        "    tf.keras.layers.Dense(10, input_shape=[4], activation=\"relu\"), \r\n",
        "    tf.keras.layers.Dense(10, activation=\"relu\"), \r\n",
        "    tf.keras.layers.Dense(1)\r\n",
        "])\r\n",
        "model.compile(loss=\"mse\", optimizer=tf.keras.optimizers.SGD(lr=1e-10000, momentum=0.9))\r\n",
        "history=model.fit(x_train,y_train,epochs=100,verbose=0)"
      ],
      "execution_count": 67,
      "outputs": []
    },
    {
      "cell_type": "code",
      "metadata": {
        "colab": {
          "base_uri": "https://localhost:8080/",
          "height": 293
        },
        "id": "J721K-NkuOKG",
        "outputId": "74da644d-81d8-481f-d7c4-27f21cc1b65d"
      },
      "source": [
        "plt.plot(model.predict(x_train))\r\n",
        "plt.plot(y_train)"
      ],
      "execution_count": 70,
      "outputs": [
        {
          "output_type": "execute_result",
          "data": {
            "text/plain": [
              "[<matplotlib.lines.Line2D at 0x7f19cd3510b8>]"
            ]
          },
          "metadata": {
            "tags": []
          },
          "execution_count": 70
        },
        {
          "output_type": "display_data",
          "data": {
            "image/png": "[encoded data removed]",
            "text/plain": [
              "<Figure size 432x288 with 1 Axes>"
            ]
          },
          "metadata": {
            "tags": [],
            "needs_background": "light"
          }
        }
      ]
    },
    {
      "cell_type": "code",
      "metadata": {
        "id": "ugXX8O16sRIQ"
      },
      "source": [
        "error=[]\r\n",
        "i=[0,1,2,3,4,5,6,7]\r\n",
        "for j in i:\r\n",
        "  ex=10**j\r\n",
        "  model = tf.keras.models.Sequential([\r\n",
        "    tf.keras.layers.Dense(10, input_shape=[4], activation=\"relu\"), \r\n",
        "    tf.keras.layers.Dense(10, activation=\"relu\"), \r\n",
        "    tf.keras.layers.Dense(1)\r\n",
        "  ])\r\n",
        "  model.compile(loss=\"mse\", optimizer=tf.keras.optimizers.SGD(lr=1e-10**j, momentum=1))\r\n",
        "  history=model.fit(x_train,y_train,epochs=100,verbose=0)\r\n",
        "  error.append(np.sum(model.predict(x_train)-y_train))"
      ],
      "execution_count": 77,
      "outputs": []
    },
    {
      "cell_type": "code",
      "metadata": {
        "colab": {
          "base_uri": "https://localhost:8080/"
        },
        "id": "qIVaSyX2uIAY",
        "outputId": "8532a836-dc44-4870-922d-ac8163477900"
      },
      "source": [
        "error"
      ],
      "execution_count": 78,
      "outputs": [
        {
          "output_type": "execute_result",
          "data": {
            "text/plain": [
              "[nan,\n",
              " nan,\n",
              " -1497789876.4277031,\n",
              " -464055681.66549057,\n",
              " -3183352829.9109025,\n",
              " -256983854.6297494,\n",
              " -2884228600.9986973,\n",
              " -2489372665.2093415]"
            ]
          },
          "metadata": {
            "tags": []
          },
          "execution_count": 78
        }
      ]
    },
    {
      "cell_type": "code",
      "metadata": {
        "colab": {
          "base_uri": "https://localhost:8080/",
          "height": 293
        },
        "id": "VesjCxz-qOUt",
        "outputId": "e52f4e35-0c10-43fc-dc15-f9fd534c1f14"
      },
      "source": [
        "plt.plot(-model.predict(x_train),label=\"predicted\")\r\n",
        "plt.plot(y_train,label=\"actual\")\r\n",
        "plt.legend()"
      ],
      "execution_count": 80,
      "outputs": [
        {
          "output_type": "execute_result",
          "data": {
            "text/plain": [
              "<matplotlib.legend.Legend at 0x7f19c5808550>"
            ]
          },
          "metadata": {
            "tags": []
          },
          "execution_count": 80
        },
        {
          "output_type": "display_data",
          "data": {
            "image/png": "[encoded data removed]",
            "text/plain": [
              "<Figure size 432x288 with 1 Axes>"
            ]
          },
          "metadata": {
            "tags": [],
            "needs_background": "light"
          }
        }
      ]
    },
    {
      "cell_type": "code",
      "metadata": {
        "id": "EgTXBbz_qU9R"
      },
      "source": [
        ""
      ],
      "execution_count": null,
      "outputs": []
    }
  ]
}